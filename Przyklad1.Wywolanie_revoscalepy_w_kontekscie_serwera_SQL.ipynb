{
 "cells": [
  {
   "cell_type": "markdown",
   "metadata": {
    "slideshow": {
     "slide_type": "slide"
    }
   },
   "source": [
    "# Analizy danych za pomocą biblioteki *revoscalepy* z wykorzystaniem wewnętrznego kontekstu serwera SQL "
   ]
  },
  {
   "cell_type": "markdown",
   "metadata": {
    "slideshow": {
     "slide_type": "skip"
    }
   },
   "source": [
    "https://docs.microsoft.com/pl-pl/r-server/python-reference/revoscalepy/rxinsqlserver"
   ]
  },
  {
   "cell_type": "markdown",
   "metadata": {
    "slideshow": {
     "slide_type": "slide"
    }
   },
   "source": [
    "### Informacje o środowisku wykonawczym"
   ]
  },
  {
   "cell_type": "markdown",
   "metadata": {
    "slideshow": {
     "slide_type": "subslide"
    }
   },
   "source": [
    "- Stosowana metoda: **SQL Server Machine Learning Services (In-Database)**"
   ]
  },
  {
   "cell_type": "code",
   "execution_count": 1,
   "metadata": {
    "slideshow": {
     "slide_type": "fragment"
    }
   },
   "outputs": [
    {
     "name": "stdout",
     "output_type": "stream",
     "text": [
      "\n",
      "Express Edition will continue to be enforced.\n"
     ]
    }
   ],
   "source": [
    "import sys\n",
    "import revoscalepy"
   ]
  },
  {
   "cell_type": "code",
   "execution_count": 2,
   "metadata": {
    "slideshow": {
     "slide_type": "fragment"
    }
   },
   "outputs": [
    {
     "name": "stdout",
     "output_type": "stream",
     "text": [
      "Wersja modułu revoscalepy:  9.2.0\n",
      "Ścieżka do biblioteki revoscalepy:   ['D:\\\\Microsoft SQL Server\\\\MSSQL14.MSSQLSERVER\\\\PYTHON_SERVICES\\\\lib\\\\site-packages\\\\revoscalepy']\n",
      "Wersja języka Python:  3.5.2 |Continuum Analytics, Inc.| (default, Jul  5 2016, 11:41:13) [MSC v.1900 64 bit (AMD64)]\n",
      "Ścieżka do interpretera:  D:\\Microsoft SQL Server\\MSSQL14.MSSQLSERVER\\PYTHON_SERVICES\\python.exe\n"
     ]
    }
   ],
   "source": [
    "print('Wersja modułu revoscalepy: ', revoscalepy.__version__)\n",
    "print('Ścieżka do biblioteki revoscalepy:  ', revoscalepy.__path__)\n",
    "print('Wersja języka Python: ', sys.version)\n",
    "print('Ścieżka do interpretera: ', sys.executable)"
   ]
  },
  {
   "cell_type": "markdown",
   "metadata": {
    "slideshow": {
     "slide_type": "slide"
    }
   },
   "source": [
    "### Chwila na ustawienia"
   ]
  },
  {
   "cell_type": "code",
   "execution_count": 3,
   "metadata": {
    "collapsed": true,
    "slideshow": {
     "slide_type": "subslide"
    }
   },
   "outputs": [],
   "source": [
    "del revoscalepy #małe czyszczenie"
   ]
  },
  {
   "cell_type": "code",
   "execution_count": 4,
   "metadata": {
    "collapsed": true,
    "slideshow": {
     "slide_type": "subslide"
    }
   },
   "outputs": [],
   "source": [
    "%matplotlib inline\n",
    "import matplotlib.pyplot as plt\n",
    "import pandas as pd"
   ]
  },
  {
   "cell_type": "markdown",
   "metadata": {
    "slideshow": {
     "slide_type": "slide"
    }
   },
   "source": [
    "### Utworzenie kontekstu obliczeniowego wewnątrz serwera MS SQL 2017\n",
    "- RxInSqlServer - klasa tworząca kontekst obliczeniowy na serwerze SQL\n",
    "- RxSqlServerData - klasa realizująca dostęp do zbioru danych określonych przez zapytanie i zlokalizowanych na serwerze SQL"
   ]
  },
  {
   "cell_type": "markdown",
   "metadata": {
    "slideshow": {
     "slide_type": "slide"
    }
   },
   "source": [
    "### Utworzenie kontekstu obliczeniowego - rozwiązanie"
   ]
  },
  {
   "cell_type": "code",
   "execution_count": 5,
   "metadata": {
    "collapsed": true,
    "slideshow": {
     "slide_type": "fragment"
    }
   },
   "outputs": [],
   "source": [
    "from revoscalepy import RxSqlServerData, RxInSqlServer, rx_lin_mod"
   ]
  },
  {
   "cell_type": "code",
   "execution_count": 6,
   "metadata": {
    "collapsed": true,
    "slideshow": {
     "slide_type": "fragment"
    }
   },
   "outputs": [],
   "source": [
    "connection_string=\"Driver=SQL Server;Server=.;Database=RevoTestDB;Trusted_Connection=True\""
   ]
  },
  {
   "cell_type": "code",
   "execution_count": 7,
   "metadata": {
    "collapsed": true,
    "slideshow": {
     "slide_type": "fragment"
    }
   },
   "outputs": [],
   "source": [
    "cc = RxInSqlServer(\n",
    "    connection_string = connection_string,\n",
    "    num_tasks = 1,\n",
    "    auto_cleanup = False,\n",
    "    console_output = True,\n",
    "    execution_timeout_seconds = 0,\n",
    "    wait = True\n",
    "    )"
   ]
  },
  {
   "cell_type": "code",
   "execution_count": 8,
   "metadata": {
    "slideshow": {
     "slide_type": "fragment"
    }
   },
   "outputs": [
    {
     "data": {
      "text/plain": [
       "revoscalepy.computecontext.RxInSqlServer.RxInSqlServer"
      ]
     },
     "execution_count": 8,
     "metadata": {},
     "output_type": "execute_result"
    }
   ],
   "source": [
    "type(cc)"
   ]
  },
  {
   "cell_type": "markdown",
   "metadata": {
    "slideshow": {
     "slide_type": "slide"
    }
   },
   "source": [
    "### Analizowane dane"
   ]
  },
  {
   "cell_type": "markdown",
   "metadata": {
    "slideshow": {
     "slide_type": "fragment"
    }
   },
   "source": [
    "Pochodzenie:\n",
    "http://stat-computing.org/dataexpo/2009/the-data.html <br>\n",
    "Wiecej danych testowych jest dostępnych po instalacji narzędzi dla języka R, w lokalizacji dla przykładu: <br>**\"D:\\Microsoft SQL Server\\MSSQL14.MSSQLSERVER\\R_SERVICES\\library\\RevoScaleR\\SampleData\"** "
   ]
  },
  {
   "cell_type": "markdown",
   "metadata": {
    "slideshow": {
     "slide_type": "fragment"
    }
   },
   "source": [
    "#### Opis pól występujących w tabeli\n",
    "- **ArrDelay** - opóźnienie przylotu w minutach\n",
    "- **CRSDepTime** - planowany czas wylotu (czas lokalny, hhmm)\n",
    "- **DayOfWeek** - dzień 1 (Monday) - 7 (Sunday)"
   ]
  },
  {
   "cell_type": "markdown",
   "metadata": {
    "collapsed": true,
    "slideshow": {
     "slide_type": "subslide"
    }
   },
   "source": [
    "**query=\"select top 600000 [ArrDelay],[CRSDepTime],[DayOfWeek] FROM airlinedemosmall\"**"
   ]
  },
  {
   "cell_type": "code",
   "execution_count": 9,
   "metadata": {
    "collapsed": true,
    "slideshow": {
     "slide_type": "subslide"
    }
   },
   "outputs": [],
   "source": [
    "data_source = RxSqlServerData(\n",
    "    sql_query = \"select top 600000 * from airlinedemosmall\",\n",
    "    connection_string = connection_string,\n",
    "    column_info = {\n",
    "        \"ArrDelay\" : { \"type\" : \"integer\" },\n",
    "        \"DayOfWeek\" : {\n",
    "            \"type\" : \"factor\",\n",
    "            \"levels\" : [ \"Monday\", \"Tuesday\", \"Wednesday\", \"Thursday\", \"Friday\", \"Saturday\", \"Sunday\" ]\n",
    "        }\n",
    "    })"
   ]
  },
  {
   "cell_type": "code",
   "execution_count": 10,
   "metadata": {
    "slideshow": {
     "slide_type": "subslide"
    }
   },
   "outputs": [
    {
     "data": {
      "text/plain": [
       "revoscalepy.datasource.RxSqlData.RxSqlServerData"
      ]
     },
     "execution_count": 10,
     "metadata": {},
     "output_type": "execute_result"
    }
   ],
   "source": [
    "type(data_source)"
   ]
  },
  {
   "cell_type": "markdown",
   "metadata": {
    "slideshow": {
     "slide_type": "slide"
    }
   },
   "source": [
    "### Pobranie danych z bazy"
   ]
  },
  {
   "cell_type": "code",
   "execution_count": 11,
   "metadata": {
    "slideshow": {
     "slide_type": "subslide"
    }
   },
   "outputs": [
    {
     "name": "stdout",
     "output_type": "stream",
     "text": [
      "ReadNum=1, StartRowNum=1, CurrentNumRows=6, TotalRowsProcessed=6, ReadTime=0.054, ProcessDataTime = 0.149, LoopTime = 0.203 \n",
      "\n",
      "Overall compute summaries time: 0.203 secs.\n",
      "Total loop time: 0.203\n",
      "Total read time for 1 reads: 0.054\n",
      "Total process data time: 0.149\n",
      "Average read time per read: 0.054\n",
      "Average process data time per read: 0.149\n",
      "Number of threads used: 2\n"
     ]
    },
    {
     "data": {
      "text/html": [
       "<div>\n",
       "<table border=\"1\" class=\"dataframe\">\n",
       "  <thead>\n",
       "    <tr style=\"text-align: right;\">\n",
       "      <th></th>\n",
       "      <th>ArrDelay</th>\n",
       "      <th>CRSDepTime</th>\n",
       "      <th>DayOfWeek</th>\n",
       "    </tr>\n",
       "  </thead>\n",
       "  <tbody>\n",
       "    <tr>\n",
       "      <th>0</th>\n",
       "      <td>6</td>\n",
       "      <td>9.666666</td>\n",
       "      <td>Monday</td>\n",
       "    </tr>\n",
       "    <tr>\n",
       "      <th>1</th>\n",
       "      <td>-8</td>\n",
       "      <td>19.916666</td>\n",
       "      <td>Monday</td>\n",
       "    </tr>\n",
       "    <tr>\n",
       "      <th>2</th>\n",
       "      <td>-2</td>\n",
       "      <td>13.750000</td>\n",
       "      <td>Monday</td>\n",
       "    </tr>\n",
       "    <tr>\n",
       "      <th>3</th>\n",
       "      <td>1</td>\n",
       "      <td>11.750000</td>\n",
       "      <td>Monday</td>\n",
       "    </tr>\n",
       "    <tr>\n",
       "      <th>4</th>\n",
       "      <td>-2</td>\n",
       "      <td>6.416667</td>\n",
       "      <td>Monday</td>\n",
       "    </tr>\n",
       "    <tr>\n",
       "      <th>5</th>\n",
       "      <td>-14</td>\n",
       "      <td>13.833333</td>\n",
       "      <td>Monday</td>\n",
       "    </tr>\n",
       "  </tbody>\n",
       "</table>\n",
       "</div>"
      ],
      "text/plain": [
       "   ArrDelay  CRSDepTime DayOfWeek\n",
       "0         6    9.666666    Monday\n",
       "1        -8   19.916666    Monday\n",
       "2        -2   13.750000    Monday\n",
       "3         1   11.750000    Monday\n",
       "4        -2    6.416667    Monday\n",
       "5       -14   13.833333    Monday"
      ]
     },
     "execution_count": 11,
     "metadata": {},
     "output_type": "execute_result"
    }
   ],
   "source": [
    "data_source.head(num_rows = 6, report_progress = 3)"
   ]
  },
  {
   "cell_type": "markdown",
   "metadata": {
    "slideshow": {
     "slide_type": "slide"
    }
   },
   "source": [
    "### Pobranie podstawowych informacji o obiekcie *revoscalepy data source*"
   ]
  },
  {
   "cell_type": "code",
   "execution_count": 12,
   "metadata": {
    "collapsed": true,
    "slideshow": {
     "slide_type": "fragment"
    }
   },
   "outputs": [],
   "source": [
    "from revoscalepy import rx_get_info, rx_get_var_info, \\\n",
    "                        rx_get_var_names, rx_summary, \\\n",
    "                        rx_list_keys, rx_read_object, \\\n",
    "                        rx_get_compute_context, rx_set_compute_context"
   ]
  },
  {
   "cell_type": "markdown",
   "metadata": {
    "slideshow": {
     "slide_type": "slide"
    }
   },
   "source": [
    "### Ustawienie kontekstu lokalnego"
   ]
  },
  {
   "cell_type": "code",
   "execution_count": 13,
   "metadata": {
    "collapsed": true,
    "slideshow": {
     "slide_type": "fragment"
    }
   },
   "outputs": [],
   "source": [
    "from revoscalepy import RxLocalSeq"
   ]
  },
  {
   "cell_type": "code",
   "execution_count": null,
   "metadata": {
    "collapsed": true,
    "slideshow": {
     "slide_type": "fragment"
    }
   },
   "outputs": [],
   "source": [
    "local_cc = RxLocalSeq()"
   ]
  },
  {
   "cell_type": "code",
   "execution_count": null,
   "metadata": {
    "collapsed": true,
    "slideshow": {
     "slide_type": "fragment"
    }
   },
   "outputs": [],
   "source": [
    "print(rx_get_compute_context())"
   ]
  },
  {
   "cell_type": "markdown",
   "metadata": {},
   "source": [
    "### Ustawienie kontekstu na serwerze SQL"
   ]
  },
  {
   "cell_type": "code",
   "execution_count": null,
   "metadata": {
    "collapsed": true
   },
   "outputs": [],
   "source": [
    "#sql_cc = rx_set_compute_context(cc)\n",
    "#print(rx_get_compute_context())"
   ]
  },
  {
   "cell_type": "code",
   "execution_count": 14,
   "metadata": {
    "slideshow": {
     "slide_type": "subslide"
    }
   },
   "outputs": [
    {
     "name": "stdout",
     "output_type": "stream",
     "text": [
      "Connection string:Driver=SQL Server;Server=.;Database=RevoTestDB;Trusted_Connection=True\n",
      "Data Source:SqlServer\n",
      "\n"
     ]
    }
   ],
   "source": [
    "info = rx_get_info(data_source)\n",
    "print(info)"
   ]
  },
  {
   "cell_type": "code",
   "execution_count": 15,
   "metadata": {
    "slideshow": {
     "slide_type": "subslide"
    }
   },
   "outputs": [
    {
     "name": "stdout",
     "output_type": "stream",
     "text": [
      "Var 1: ArrDelay, Type: integer, Storage: int32, Low/High: (-86.0000, 1490.0000)\n",
      "Var 2: CRSDepTime, Type: numeric, Storage: float64, Low/High: (0.0167, 23.9833)\n",
      "Var 3: DayOfWeek\n",
      "\t7 factor levels: ['Monday', 'Tuesday', 'Wednesday', 'Thursday', 'Friday', 'Saturday', 'Sunday']\n",
      "\n"
     ]
    }
   ],
   "source": [
    "var_info = rx_get_var_info(data_source, compute_info=True)\n",
    "print(var_info)"
   ]
  },
  {
   "cell_type": "code",
   "execution_count": 16,
   "metadata": {
    "slideshow": {
     "slide_type": "subslide"
    }
   },
   "outputs": [
    {
     "name": "stdout",
     "output_type": "stream",
     "text": [
      "\n",
      "ArrDelay CRSDepTime DayOfWeek\n"
     ]
    }
   ],
   "source": [
    "#rx_set_compute_context(local_cc)\n",
    "name_info = rx_get_var_names(data_source)\n",
    "print(name_info)"
   ]
  },
  {
   "cell_type": "code",
   "execution_count": 17,
   "metadata": {
    "slideshow": {
     "slide_type": "subslide"
    }
   },
   "outputs": [
    {
     "name": "stdout",
     "output_type": "stream",
     "text": [
      "Connection string:Driver=SQL Server;Server=.;Database=RevoTestDB;Trusted_Connection=True\n",
      "Data Source:SqlServer\n",
      "Number of variables:3.0\n",
      "Variable information: \n",
      "Var 1: ArrDelay, Type: integer, Storage: int32\n",
      "Var 2: CRSDepTime, Type: numeric, Storage: float64\n",
      "Var 3: DayOfWeek\n",
      "\t7 factor levels: ['Monday', 'Tuesday', 'Wednesday', 'Thursday', 'Friday', 'Saturday', 'Sunday']\n",
      "\n"
     ]
    }
   ],
   "source": [
    "info = rx_get_info(data_source, get_var_info=True)\n",
    "print(info)"
   ]
  },
  {
   "cell_type": "code",
   "execution_count": 18,
   "metadata": {
    "slideshow": {
     "slide_type": "subslide"
    }
   },
   "outputs": [
    {
     "name": "stdout",
     "output_type": "stream",
     "text": [
      "Rows Read: 600000, Total Rows Processed: 600000, Total Chunk Time: 1.929 seconds \n",
      "Computation time: 2.306 seconds.\n",
      "Call:\n",
      "rx_summary(formula = 'ArrDelay+DayOfWeek', data = <revoscalepy.datasource.RxSqlData.RxSqlServerData object at\n",
      "    0x0000026FF0432438>, by_group_out_file = None, summary_stats = ['Mean', 'StdDev', 'Min', 'Max', 'ValidObs',\n",
      "    'MissingObs'], by_term = True, pweights = None, fweights = None, row_selection = None, transforms = None,\n",
      "    transform_objects = None, transform_function = None, transform_variables = None, transform_packages = None,\n",
      "    transform_environment = None, overwrite = False, use_sparse_cube = False, remove_zero_counts = False,\n",
      "    blocks_per_read = 1, rows_per_block = 100000, report_progress = None, verbose = 0, compute_context =\n",
      "    <revoscalepy.computecontext.RxLocalSeq.RxLocalSeq object at 0x0000026FEE58A160>)\n",
      "\n",
      "Summary Statistics Results for: ArrDelay+DayOfWeek\n",
      "\n",
      "Number of valid observations: 600000.0\n",
      "\n",
      "       Name       Mean     StdDev   Min     Max  ValidObs  MissingObs\n",
      "0  ArrDelay  11.317935  40.688536 -86.0  1490.0  582628.0     17372.0\n",
      "\n",
      "Category Counts for DayOfWeek\n",
      "Number of categories: 7\n",
      "\n",
      "            Counts\n",
      "DayOfWeek         \n",
      "1          97975.0\n",
      "2          77725.0\n",
      "3          78875.0\n",
      "4          81304.0\n",
      "5          82987.0\n",
      "6          86159.0\n",
      "7          94975.0\n"
     ]
    }
   ],
   "source": [
    "summary = rx_summary(\"ArrDelay+DayOfWeek\", data_source)\n",
    "print(summary)"
   ]
  },
  {
   "cell_type": "code",
   "execution_count": 19,
   "metadata": {
    "slideshow": {
     "slide_type": "subslide"
    }
   },
   "outputs": [
    {
     "name": "stdout",
     "output_type": "stream",
     "text": [
      "Rows Read: 600000, Total Rows Processed: 600000, Total Chunk Time: 1.354 seconds \n",
      "<class 'pandas.core.frame.DataFrame'>\n",
      "600000\n"
     ]
    }
   ],
   "source": [
    "keys = rx_list_keys(data_source)\n",
    "print(type(keys))\n",
    "print(len(keys))"
   ]
  },
  {
   "cell_type": "code",
   "execution_count": 56,
   "metadata": {
    "slideshow": {
     "slide_type": "subslide"
    }
   },
   "outputs": [
    {
     "name": "stdout",
     "output_type": "stream",
     "text": [
      "0    Monday\n",
      "1    Monday\n",
      "2    Monday\n",
      "3    Monday\n",
      "4    Monday\n",
      "5    Monday\n",
      "6    Monday\n",
      "7    Monday\n",
      "8    Monday\n",
      "9    Monday\n",
      "Name: DayOfWeek, dtype: object 0     6\n",
      "1    -8\n",
      "2    -2\n",
      "3     1\n",
      "4    -2\n",
      "5   -14\n",
      "6    20\n",
      "7    -2\n",
      "8    -2\n",
      "9   -15\n",
      "Name: ArrDelay, dtype: int32\n"
     ]
    }
   ],
   "source": [
    "print(keys['DayOfWeek'][:10], keys['ArrDelay'][:10])"
   ]
  },
  {
   "cell_type": "markdown",
   "metadata": {
    "slideshow": {
     "slide_type": "slide"
    }
   },
   "source": [
    "### Dane z obiektu *data_source* można zaimportować do obiektu *DataFrame* z biblioteki *Pandas* "
   ]
  },
  {
   "cell_type": "code",
   "execution_count": 27,
   "metadata": {
    "collapsed": true,
    "slideshow": {
     "slide_type": "fragment"
    }
   },
   "outputs": [],
   "source": [
    "from revoscalepy import rx_import"
   ]
  },
  {
   "cell_type": "code",
   "execution_count": 28,
   "metadata": {
    "slideshow": {
     "slide_type": "fragment"
    }
   },
   "outputs": [
    {
     "name": "stdout",
     "output_type": "stream",
     "text": [
      "Rows Read: 600000, Total Rows Processed: 600000, Total Chunk Time: 1.363 seconds \n"
     ]
    }
   ],
   "source": [
    "df = pd.DataFrame(rx_import(input_data = data_source))"
   ]
  },
  {
   "cell_type": "code",
   "execution_count": 29,
   "metadata": {
    "slideshow": {
     "slide_type": "fragment"
    }
   },
   "outputs": [
    {
     "name": "stdout",
     "output_type": "stream",
     "text": [
      "<class 'pandas.core.frame.DataFrame'>\n"
     ]
    }
   ],
   "source": [
    "print(type(df))"
   ]
  },
  {
   "cell_type": "code",
   "execution_count": 30,
   "metadata": {
    "slideshow": {
     "slide_type": "subslide"
    }
   },
   "outputs": [
    {
     "data": {
      "text/html": [
       "<div>\n",
       "<table border=\"1\" class=\"dataframe\">\n",
       "  <thead>\n",
       "    <tr style=\"text-align: right;\">\n",
       "      <th></th>\n",
       "      <th>ArrDelay</th>\n",
       "      <th>CRSDepTime</th>\n",
       "      <th>DayOfWeek</th>\n",
       "    </tr>\n",
       "  </thead>\n",
       "  <tbody>\n",
       "    <tr>\n",
       "      <th>141996</th>\n",
       "      <td>8</td>\n",
       "      <td>19.499998</td>\n",
       "      <td>Tuesday</td>\n",
       "    </tr>\n",
       "    <tr>\n",
       "      <th>30763</th>\n",
       "      <td>1</td>\n",
       "      <td>10.666666</td>\n",
       "      <td>Wednesday</td>\n",
       "    </tr>\n",
       "    <tr>\n",
       "      <th>328555</th>\n",
       "      <td>-15</td>\n",
       "      <td>6.250000</td>\n",
       "      <td>Thursday</td>\n",
       "    </tr>\n",
       "    <tr>\n",
       "      <th>402546</th>\n",
       "      <td>-18</td>\n",
       "      <td>6.333333</td>\n",
       "      <td>Thursday</td>\n",
       "    </tr>\n",
       "    <tr>\n",
       "      <th>300737</th>\n",
       "      <td>19</td>\n",
       "      <td>11.416667</td>\n",
       "      <td>Monday</td>\n",
       "    </tr>\n",
       "  </tbody>\n",
       "</table>\n",
       "</div>"
      ],
      "text/plain": [
       "        ArrDelay  CRSDepTime  DayOfWeek\n",
       "141996         8   19.499998    Tuesday\n",
       "30763          1   10.666666  Wednesday\n",
       "328555       -15    6.250000   Thursday\n",
       "402546       -18    6.333333   Thursday\n",
       "300737        19   11.416667     Monday"
      ]
     },
     "execution_count": 30,
     "metadata": {},
     "output_type": "execute_result"
    }
   ],
   "source": [
    "df.sample(n=5)"
   ]
  },
  {
   "cell_type": "code",
   "execution_count": 58,
   "metadata": {
    "slideshow": {
     "slide_type": "subslide"
    }
   },
   "outputs": [
    {
     "data": {
      "text/html": [
       "<div>\n",
       "<table border=\"1\" class=\"dataframe\">\n",
       "  <thead>\n",
       "    <tr style=\"text-align: right;\">\n",
       "      <th></th>\n",
       "      <th>ArrDelay</th>\n",
       "      <th>CRSDepTime</th>\n",
       "      <th>DayOfWeek</th>\n",
       "      <th>delayed</th>\n",
       "    </tr>\n",
       "  </thead>\n",
       "  <tbody>\n",
       "    <tr>\n",
       "      <th>434129</th>\n",
       "      <td>1490</td>\n",
       "      <td>6.250000</td>\n",
       "      <td>Friday</td>\n",
       "      <td>True</td>\n",
       "    </tr>\n",
       "    <tr>\n",
       "      <th>505852</th>\n",
       "      <td>1370</td>\n",
       "      <td>11.583334</td>\n",
       "      <td>Saturday</td>\n",
       "      <td>True</td>\n",
       "    </tr>\n",
       "    <tr>\n",
       "      <th>226738</th>\n",
       "      <td>1267</td>\n",
       "      <td>13.083334</td>\n",
       "      <td>Saturday</td>\n",
       "      <td>True</td>\n",
       "    </tr>\n",
       "    <tr>\n",
       "      <th>412481</th>\n",
       "      <td>1224</td>\n",
       "      <td>10.799999</td>\n",
       "      <td>Friday</td>\n",
       "      <td>True</td>\n",
       "    </tr>\n",
       "    <tr>\n",
       "      <th>420041</th>\n",
       "      <td>1202</td>\n",
       "      <td>22.333334</td>\n",
       "      <td>Sunday</td>\n",
       "      <td>True</td>\n",
       "    </tr>\n",
       "    <tr>\n",
       "      <th>401146</th>\n",
       "      <td>1195</td>\n",
       "      <td>10.416667</td>\n",
       "      <td>Friday</td>\n",
       "      <td>True</td>\n",
       "    </tr>\n",
       "    <tr>\n",
       "      <th>420103</th>\n",
       "      <td>1189</td>\n",
       "      <td>7.083333</td>\n",
       "      <td>Sunday</td>\n",
       "      <td>True</td>\n",
       "    </tr>\n",
       "    <tr>\n",
       "      <th>506928</th>\n",
       "      <td>1182</td>\n",
       "      <td>13.750000</td>\n",
       "      <td>Friday</td>\n",
       "      <td>True</td>\n",
       "    </tr>\n",
       "    <tr>\n",
       "      <th>421875</th>\n",
       "      <td>1166</td>\n",
       "      <td>14.166667</td>\n",
       "      <td>Wednesday</td>\n",
       "      <td>True</td>\n",
       "    </tr>\n",
       "    <tr>\n",
       "      <th>486052</th>\n",
       "      <td>1143</td>\n",
       "      <td>15.000000</td>\n",
       "      <td>Tuesday</td>\n",
       "      <td>True</td>\n",
       "    </tr>\n",
       "  </tbody>\n",
       "</table>\n",
       "</div>"
      ],
      "text/plain": [
       "        ArrDelay  CRSDepTime  DayOfWeek delayed\n",
       "434129      1490    6.250000     Friday    True\n",
       "505852      1370   11.583334   Saturday    True\n",
       "226738      1267   13.083334   Saturday    True\n",
       "412481      1224   10.799999     Friday    True\n",
       "420041      1202   22.333334     Sunday    True\n",
       "401146      1195   10.416667     Friday    True\n",
       "420103      1189    7.083333     Sunday    True\n",
       "506928      1182   13.750000     Friday    True\n",
       "421875      1166   14.166667  Wednesday    True\n",
       "486052      1143   15.000000    Tuesday    True"
      ]
     },
     "execution_count": 58,
     "metadata": {},
     "output_type": "execute_result"
    }
   ],
   "source": [
    "df.sort_values(by='ArrDelay', ascending=False)[:10]"
   ]
  },
  {
   "cell_type": "code",
   "execution_count": 32,
   "metadata": {
    "slideshow": {
     "slide_type": "subslide"
    }
   },
   "outputs": [
    {
     "data": {
      "text/html": [
       "<div>\n",
       "<table border=\"1\" class=\"dataframe\">\n",
       "  <thead>\n",
       "    <tr style=\"text-align: right;\">\n",
       "      <th>DayOfWeek</th>\n",
       "      <th>Monday</th>\n",
       "      <th>Tuesday</th>\n",
       "      <th>Wednesday</th>\n",
       "      <th>Thursday</th>\n",
       "      <th>Friday</th>\n",
       "      <th>Saturday</th>\n",
       "      <th>Sunday</th>\n",
       "    </tr>\n",
       "  </thead>\n",
       "  <tbody>\n",
       "    <tr>\n",
       "      <th>ArrDelay</th>\n",
       "      <td>-5.867632e+07</td>\n",
       "      <td>-1.026150e+08</td>\n",
       "      <td>-5.687598e+07</td>\n",
       "      <td>-5.702569e+07</td>\n",
       "      <td>-7.362105e+07</td>\n",
       "      <td>-5.752610e+07</td>\n",
       "      <td>-3.572544e+07</td>\n",
       "    </tr>\n",
       "    <tr>\n",
       "      <th>CRSDepTime</th>\n",
       "      <td>1.345261e+01</td>\n",
       "      <td>1.345228e+01</td>\n",
       "      <td>1.347639e+01</td>\n",
       "      <td>1.349100e+01</td>\n",
       "      <td>1.350271e+01</td>\n",
       "      <td>1.315288e+01</td>\n",
       "      <td>1.381579e+01</td>\n",
       "    </tr>\n",
       "  </tbody>\n",
       "</table>\n",
       "</div>"
      ],
      "text/plain": [
       "DayOfWeek         Monday       Tuesday     Wednesday      Thursday  \\\n",
       "ArrDelay   -5.867632e+07 -1.026150e+08 -5.687598e+07 -5.702569e+07   \n",
       "CRSDepTime  1.345261e+01  1.345228e+01  1.347639e+01  1.349100e+01   \n",
       "\n",
       "DayOfWeek         Friday      Saturday        Sunday  \n",
       "ArrDelay   -7.362105e+07 -5.752610e+07 -3.572544e+07  \n",
       "CRSDepTime  1.350271e+01  1.315288e+01  1.381579e+01  "
      ]
     },
     "execution_count": 32,
     "metadata": {},
     "output_type": "execute_result"
    }
   ],
   "source": [
    "df.pivot_table(columns='DayOfWeek')"
   ]
  },
  {
   "cell_type": "markdown",
   "metadata": {
    "slideshow": {
     "slide_type": "fragment"
    }
   },
   "source": [
    "Wynik w każdym z wierszy reprezentuje wartość średnią dla poszczególnego dnia tygodnia"
   ]
  },
  {
   "cell_type": "code",
   "execution_count": 62,
   "metadata": {
    "slideshow": {
     "slide_type": "subslide"
    }
   },
   "outputs": [
    {
     "data": {
      "text/plain": [
       "array([[<matplotlib.axes._subplots.AxesSubplot object at 0x0000026FF99B8940>]], dtype=object)"
      ]
     },
     "execution_count": 62,
     "metadata": {},
     "output_type": "execute_result"
    },
    {
     "data": {
      "image/png": "[encoded data removed]",
      "text/plain": [
       "<matplotlib.figure.Figure at 0x26ff2630d30>"
      ]
     },
     "metadata": {},
     "output_type": "display_data"
    }
   ],
   "source": [
    "df.groupby('DayOfWeek').get_group('Monday').hist(column='CRSDepTime', figsize=[8,6])"
   ]
  },
  {
   "cell_type": "code",
   "execution_count": 34,
   "metadata": {
    "collapsed": true
   },
   "outputs": [],
   "source": [
    "df['delayed'] = df['ArrDelay'].apply(lambda x: x > 0)"
   ]
  },
  {
   "cell_type": "code",
   "execution_count": 35,
   "metadata": {},
   "outputs": [
    {
     "data": {
      "text/html": [
       "<div>\n",
       "<table border=\"1\" class=\"dataframe\">\n",
       "  <thead>\n",
       "    <tr style=\"text-align: right;\">\n",
       "      <th></th>\n",
       "      <th>ArrDelay</th>\n",
       "      <th>CRSDepTime</th>\n",
       "      <th>DayOfWeek</th>\n",
       "      <th>delayed</th>\n",
       "    </tr>\n",
       "  </thead>\n",
       "  <tbody>\n",
       "    <tr>\n",
       "      <th>86215</th>\n",
       "      <td>29</td>\n",
       "      <td>12.666666</td>\n",
       "      <td>Sunday</td>\n",
       "      <td>True</td>\n",
       "    </tr>\n",
       "    <tr>\n",
       "      <th>339392</th>\n",
       "      <td>94</td>\n",
       "      <td>10.333333</td>\n",
       "      <td>Sunday</td>\n",
       "      <td>True</td>\n",
       "    </tr>\n",
       "    <tr>\n",
       "      <th>223421</th>\n",
       "      <td>-18</td>\n",
       "      <td>8.583334</td>\n",
       "      <td>Sunday</td>\n",
       "      <td>False</td>\n",
       "    </tr>\n",
       "    <tr>\n",
       "      <th>199087</th>\n",
       "      <td>9</td>\n",
       "      <td>13.416667</td>\n",
       "      <td>Monday</td>\n",
       "      <td>True</td>\n",
       "    </tr>\n",
       "    <tr>\n",
       "      <th>483386</th>\n",
       "      <td>-1</td>\n",
       "      <td>10.083334</td>\n",
       "      <td>Friday</td>\n",
       "      <td>False</td>\n",
       "    </tr>\n",
       "  </tbody>\n",
       "</table>\n",
       "</div>"
      ],
      "text/plain": [
       "        ArrDelay  CRSDepTime DayOfWeek delayed\n",
       "86215         29   12.666666    Sunday    True\n",
       "339392        94   10.333333    Sunday    True\n",
       "223421       -18    8.583334    Sunday   False\n",
       "199087         9   13.416667    Monday    True\n",
       "483386        -1   10.083334    Friday   False"
      ]
     },
     "execution_count": 35,
     "metadata": {},
     "output_type": "execute_result"
    }
   ],
   "source": [
    "df.sample(n=5)"
   ]
  },
  {
   "cell_type": "code",
   "execution_count": 36,
   "metadata": {},
   "outputs": [
    {
     "data": {
      "text/plain": [
       "False    312462\n",
       "True     287538\n",
       "Name: delayed, dtype: int64"
      ]
     },
     "execution_count": 36,
     "metadata": {},
     "output_type": "execute_result"
    }
   ],
   "source": [
    "df['delayed'].value_counts()"
   ]
  },
  {
   "cell_type": "code",
   "execution_count": 37,
   "metadata": {},
   "outputs": [
    {
     "name": "stdout",
     "output_type": "stream",
     "text": [
      "Ilość lotów bez opóźnienia: 312462\n"
     ]
    }
   ],
   "source": [
    "not_delayed = df['delayed'].value_counts()[0]\n",
    "print('Ilość lotów bez opóźnienia:', not_delayed)"
   ]
  },
  {
   "cell_type": "code",
   "execution_count": 38,
   "metadata": {},
   "outputs": [
    {
     "name": "stdout",
     "output_type": "stream",
     "text": [
      "Ilość lotów opóźnionych: 287538\n"
     ]
    }
   ],
   "source": [
    "delayed = df['delayed'].value_counts()[1]\n",
    "print('Ilość lotów opóźnionych:', delayed)"
   ]
  },
  {
   "cell_type": "code",
   "execution_count": 39,
   "metadata": {},
   "outputs": [
    {
     "name": "stdout",
     "output_type": "stream",
     "text": [
      "Małe sprawdzenie: 600000\n"
     ]
    }
   ],
   "source": [
    "total_flights=not_delayed+delayed\n",
    "print('Małe sprawdzenie:', total_flights)"
   ]
  },
  {
   "cell_type": "code",
   "execution_count": 40,
   "metadata": {},
   "outputs": [
    {
     "name": "stdout",
     "output_type": "stream",
     "text": [
      "Współczynnik samolotów przylatujących na czas: 0.52077\n"
     ]
    }
   ],
   "source": [
    "print('Współczynnik samolotów przylatujących na czas:', float(not_delayed) / total_flights)"
   ]
  },
  {
   "cell_type": "code",
   "execution_count": 41,
   "metadata": {},
   "outputs": [
    {
     "name": "stdout",
     "output_type": "stream",
     "text": [
      "<pandas.core.groupby.DataFrameGroupBy object at 0x0000026FF2565E10>\n",
      "DayOfWeek  delayed\n",
      "Monday     False      48944\n",
      "           True       49031\n",
      "Tuesday    False      43431\n",
      "           True       34294\n",
      "Wednesday  False      43313\n",
      "           True       35562\n",
      "Thursday   False      44194\n",
      "           True       37110\n",
      "Friday     False      38381\n",
      "           True       44606\n",
      "Saturday   False      45919\n",
      "           True       40240\n",
      "Sunday     False      48280\n",
      "           True       46695\n",
      "dtype: int64\n"
     ]
    }
   ],
   "source": [
    "group_by_dayOfWeek = df.groupby(['DayOfWeek','delayed'])\n",
    "print(group_by_dayOfWeek)\n",
    "print(group_by_dayOfWeek.size())"
   ]
  },
  {
   "cell_type": "code",
   "execution_count": 42,
   "metadata": {},
   "outputs": [
    {
     "data": {
      "text/html": [
       "<div>\n",
       "<table border=\"1\" class=\"dataframe\">\n",
       "  <thead>\n",
       "    <tr style=\"text-align: right;\">\n",
       "      <th>delayed</th>\n",
       "      <th>False</th>\n",
       "      <th>True</th>\n",
       "    </tr>\n",
       "    <tr>\n",
       "      <th>DayOfWeek</th>\n",
       "      <th></th>\n",
       "      <th></th>\n",
       "    </tr>\n",
       "  </thead>\n",
       "  <tbody>\n",
       "    <tr>\n",
       "      <th>Monday</th>\n",
       "      <td>48944</td>\n",
       "      <td>49031</td>\n",
       "    </tr>\n",
       "    <tr>\n",
       "      <th>Tuesday</th>\n",
       "      <td>43431</td>\n",
       "      <td>34294</td>\n",
       "    </tr>\n",
       "    <tr>\n",
       "      <th>Wednesday</th>\n",
       "      <td>43313</td>\n",
       "      <td>35562</td>\n",
       "    </tr>\n",
       "    <tr>\n",
       "      <th>Thursday</th>\n",
       "      <td>44194</td>\n",
       "      <td>37110</td>\n",
       "    </tr>\n",
       "    <tr>\n",
       "      <th>Friday</th>\n",
       "      <td>38381</td>\n",
       "      <td>44606</td>\n",
       "    </tr>\n",
       "    <tr>\n",
       "      <th>Saturday</th>\n",
       "      <td>45919</td>\n",
       "      <td>40240</td>\n",
       "    </tr>\n",
       "    <tr>\n",
       "      <th>Sunday</th>\n",
       "      <td>48280</td>\n",
       "      <td>46695</td>\n",
       "    </tr>\n",
       "  </tbody>\n",
       "</table>\n",
       "</div>"
      ],
      "text/plain": [
       "delayed    False  True \n",
       "DayOfWeek              \n",
       "Monday     48944  49031\n",
       "Tuesday    43431  34294\n",
       "Wednesday  43313  35562\n",
       "Thursday   44194  37110\n",
       "Friday     38381  44606\n",
       "Saturday   45919  40240\n",
       "Sunday     48280  46695"
      ]
     },
     "execution_count": 42,
     "metadata": {},
     "output_type": "execute_result"
    }
   ],
   "source": [
    "delays_by_dayOfWeek = group_by_dayOfWeek.size().unstack()\n",
    "delays_by_dayOfWeek"
   ]
  },
  {
   "cell_type": "code",
   "execution_count": 43,
   "metadata": {},
   "outputs": [
    {
     "data": {
      "text/plain": [
       "<matplotlib.axes._subplots.AxesSubplot at 0x26ff2565278>"
      ]
     },
     "execution_count": 43,
     "metadata": {},
     "output_type": "execute_result"
    },
    {
     "data": {
      "image/png": "[encoded data removed]",
      "text/plain": [
       "<matplotlib.figure.Figure at 0x26ff25c97b8>"
      ]
     },
     "metadata": {},
     "output_type": "display_data"
    }
   ],
   "source": [
    "delays_by_dayOfWeek.plot(kind = 'barh', \n",
    "                               stacked = True, \n",
    "                               figsize=[14,6], \n",
    "                               colormap='autumn',\n",
    "                               grid = True,\n",
    "                               rot = 45,\n",
    "                               title='Relacja samolotów opóźnionych do pozostałych w rozkładzie dniowym')"
   ]
  },
  {
   "cell_type": "markdown",
   "metadata": {},
   "source": [
    "[Więcej ustwień wykresów](http://pandas.pydata.org/pandas-docs/stable/generated/pandas.DataFrame.plot.html)"
   ]
  },
  {
   "cell_type": "code",
   "execution_count": 44,
   "metadata": {},
   "outputs": [
    {
     "data": {
      "text/html": [
       "<div>\n",
       "<table border=\"1\" class=\"dataframe\">\n",
       "  <thead>\n",
       "    <tr style=\"text-align: right;\">\n",
       "      <th>delayed</th>\n",
       "      <th>False</th>\n",
       "      <th>True</th>\n",
       "      <th>flights_count</th>\n",
       "    </tr>\n",
       "    <tr>\n",
       "      <th>DayOfWeek</th>\n",
       "      <th></th>\n",
       "      <th></th>\n",
       "      <th></th>\n",
       "    </tr>\n",
       "  </thead>\n",
       "  <tbody>\n",
       "    <tr>\n",
       "      <th>Monday</th>\n",
       "      <td>48944</td>\n",
       "      <td>49031</td>\n",
       "      <td>97975</td>\n",
       "    </tr>\n",
       "    <tr>\n",
       "      <th>Tuesday</th>\n",
       "      <td>43431</td>\n",
       "      <td>34294</td>\n",
       "      <td>77725</td>\n",
       "    </tr>\n",
       "    <tr>\n",
       "      <th>Wednesday</th>\n",
       "      <td>43313</td>\n",
       "      <td>35562</td>\n",
       "      <td>78875</td>\n",
       "    </tr>\n",
       "    <tr>\n",
       "      <th>Thursday</th>\n",
       "      <td>44194</td>\n",
       "      <td>37110</td>\n",
       "      <td>81304</td>\n",
       "    </tr>\n",
       "    <tr>\n",
       "      <th>Friday</th>\n",
       "      <td>38381</td>\n",
       "      <td>44606</td>\n",
       "      <td>82987</td>\n",
       "    </tr>\n",
       "  </tbody>\n",
       "</table>\n",
       "</div>"
      ],
      "text/plain": [
       "delayed    False   True  flights_count\n",
       "DayOfWeek                             \n",
       "Monday     48944  49031          97975\n",
       "Tuesday    43431  34294          77725\n",
       "Wednesday  43313  35562          78875\n",
       "Thursday   44194  37110          81304\n",
       "Friday     38381  44606          82987"
      ]
     },
     "execution_count": 44,
     "metadata": {},
     "output_type": "execute_result"
    }
   ],
   "source": [
    "delays_by_dayOfWeek['flights_count']= (delays_by_dayOfWeek[False]+delays_by_dayOfWeek[True])\n",
    "delays_by_dayOfWeek[:5]"
   ]
  },
  {
   "cell_type": "code",
   "execution_count": 49,
   "metadata": {},
   "outputs": [
    {
     "data": {
      "text/html": [
       "<div>\n",
       "<table border=\"1\" class=\"dataframe\">\n",
       "  <thead>\n",
       "    <tr style=\"text-align: right;\">\n",
       "      <th>delayed</th>\n",
       "      <th>False</th>\n",
       "      <th>True</th>\n",
       "      <th>flights_count</th>\n",
       "      <th>proportion_delayed</th>\n",
       "    </tr>\n",
       "    <tr>\n",
       "      <th>DayOfWeek</th>\n",
       "      <th></th>\n",
       "      <th></th>\n",
       "      <th></th>\n",
       "      <th></th>\n",
       "    </tr>\n",
       "  </thead>\n",
       "  <tbody>\n",
       "    <tr>\n",
       "      <th>Monday</th>\n",
       "      <td>48944</td>\n",
       "      <td>49031</td>\n",
       "      <td>97975</td>\n",
       "      <td>0.500444</td>\n",
       "    </tr>\n",
       "    <tr>\n",
       "      <th>Tuesday</th>\n",
       "      <td>43431</td>\n",
       "      <td>34294</td>\n",
       "      <td>77725</td>\n",
       "      <td>0.441222</td>\n",
       "    </tr>\n",
       "    <tr>\n",
       "      <th>Wednesday</th>\n",
       "      <td>43313</td>\n",
       "      <td>35562</td>\n",
       "      <td>78875</td>\n",
       "      <td>0.450865</td>\n",
       "    </tr>\n",
       "    <tr>\n",
       "      <th>Thursday</th>\n",
       "      <td>44194</td>\n",
       "      <td>37110</td>\n",
       "      <td>81304</td>\n",
       "      <td>0.456435</td>\n",
       "    </tr>\n",
       "  </tbody>\n",
       "</table>\n",
       "</div>"
      ],
      "text/plain": [
       "delayed    False   True  flights_count  proportion_delayed\n",
       "DayOfWeek                                                 \n",
       "Monday     48944  49031          97975            0.500444\n",
       "Tuesday    43431  34294          77725            0.441222\n",
       "Wednesday  43313  35562          78875            0.450865\n",
       "Thursday   44194  37110          81304            0.456435"
      ]
     },
     "execution_count": 49,
     "metadata": {},
     "output_type": "execute_result"
    }
   ],
   "source": [
    "delays_by_dayOfWeek['proportion_delayed'] = delays_by_dayOfWeek[True] / delays_by_dayOfWeek['flights_count']\n",
    "delays_by_dayOfWeek[:4]"
   ]
  },
  {
   "cell_type": "code",
   "execution_count": 50,
   "metadata": {},
   "outputs": [
    {
     "data": {
      "text/html": [
       "<div>\n",
       "<table border=\"1\" class=\"dataframe\">\n",
       "  <thead>\n",
       "    <tr style=\"text-align: right;\">\n",
       "      <th>delayed</th>\n",
       "      <th>False</th>\n",
       "      <th>True</th>\n",
       "      <th>flights_count</th>\n",
       "      <th>proportion_delayed</th>\n",
       "    </tr>\n",
       "    <tr>\n",
       "      <th>DayOfWeek</th>\n",
       "      <th></th>\n",
       "      <th></th>\n",
       "      <th></th>\n",
       "      <th></th>\n",
       "    </tr>\n",
       "  </thead>\n",
       "  <tbody>\n",
       "    <tr>\n",
       "      <th>Friday</th>\n",
       "      <td>38381</td>\n",
       "      <td>44606</td>\n",
       "      <td>82987</td>\n",
       "      <td>0.537506</td>\n",
       "    </tr>\n",
       "    <tr>\n",
       "      <th>Monday</th>\n",
       "      <td>48944</td>\n",
       "      <td>49031</td>\n",
       "      <td>97975</td>\n",
       "      <td>0.500444</td>\n",
       "    </tr>\n",
       "    <tr>\n",
       "      <th>Sunday</th>\n",
       "      <td>48280</td>\n",
       "      <td>46695</td>\n",
       "      <td>94975</td>\n",
       "      <td>0.491656</td>\n",
       "    </tr>\n",
       "    <tr>\n",
       "      <th>Saturday</th>\n",
       "      <td>45919</td>\n",
       "      <td>40240</td>\n",
       "      <td>86159</td>\n",
       "      <td>0.467043</td>\n",
       "    </tr>\n",
       "    <tr>\n",
       "      <th>Thursday</th>\n",
       "      <td>44194</td>\n",
       "      <td>37110</td>\n",
       "      <td>81304</td>\n",
       "      <td>0.456435</td>\n",
       "    </tr>\n",
       "    <tr>\n",
       "      <th>Wednesday</th>\n",
       "      <td>43313</td>\n",
       "      <td>35562</td>\n",
       "      <td>78875</td>\n",
       "      <td>0.450865</td>\n",
       "    </tr>\n",
       "    <tr>\n",
       "      <th>Tuesday</th>\n",
       "      <td>43431</td>\n",
       "      <td>34294</td>\n",
       "      <td>77725</td>\n",
       "      <td>0.441222</td>\n",
       "    </tr>\n",
       "  </tbody>\n",
       "</table>\n",
       "</div>"
      ],
      "text/plain": [
       "delayed    False   True  flights_count  proportion_delayed\n",
       "DayOfWeek                                                 \n",
       "Friday     38381  44606          82987            0.537506\n",
       "Monday     48944  49031          97975            0.500444\n",
       "Sunday     48280  46695          94975            0.491656\n",
       "Saturday   45919  40240          86159            0.467043\n",
       "Thursday   44194  37110          81304            0.456435\n",
       "Wednesday  43313  35562          78875            0.450865\n",
       "Tuesday    43431  34294          77725            0.441222"
      ]
     },
     "execution_count": 50,
     "metadata": {},
     "output_type": "execute_result"
    }
   ],
   "source": [
    "delays_by_dayOfWeek.sort_values('proportion_delayed', ascending=False)"
   ]
  },
  {
   "cell_type": "code",
   "execution_count": 51,
   "metadata": {
    "collapsed": true
   },
   "outputs": [],
   "source": [
    "monday = df[df['DayOfWeek'] == 'Monday']['ArrDelay']"
   ]
  },
  {
   "cell_type": "code",
   "execution_count": 52,
   "metadata": {},
   "outputs": [
    {
     "data": {
      "text/plain": [
       "count    9.797500e+04\n",
       "mean    -5.867632e+07\n",
       "std      3.500926e+08\n",
       "min     -2.147484e+09\n",
       "25%     -9.000000e+00\n",
       "50%      1.000000e+00\n",
       "75%      1.700000e+01\n",
       "max      1.017000e+03\n",
       "Name: ArrDelay, dtype: float64"
      ]
     },
     "execution_count": 52,
     "metadata": {},
     "output_type": "execute_result"
    }
   ],
   "source": [
    "monday.describe()"
   ]
  },
  {
   "cell_type": "code",
   "execution_count": 53,
   "metadata": {},
   "outputs": [
    {
     "name": "stdout",
     "output_type": "stream",
     "text": [
      "[-50 -40 -30 -20 -10   0  10  20  30  40  50  60  70  80  90 100 110 120\n",
      " 130 140 150 160 170 180 190]\n"
     ]
    }
   ],
   "source": [
    "import numpy as np\n",
    "bin_values = np.arange(start=-50, stop=200, step=10)\n",
    "print(bin_values)"
   ]
  },
  {
   "cell_type": "code",
   "execution_count": 54,
   "metadata": {},
   "outputs": [
    {
     "data": {
      "text/plain": [
       "<matplotlib.axes._subplots.AxesSubplot at 0x26ff9242978>"
      ]
     },
     "execution_count": 54,
     "metadata": {},
     "output_type": "execute_result"
    },
    {
     "data": {
      "image/png": "[encoded data removed]",
      "text/plain": [
       "<matplotlib.figure.Figure at 0x26ff25c93c8>"
      ]
     },
     "metadata": {},
     "output_type": "display_data"
    }
   ],
   "source": [
    "monday.hist(bins=bin_values, figsize=[14,6])"
   ]
  },
  {
   "cell_type": "code",
   "execution_count": 64,
   "metadata": {
    "collapsed": true,
    "slideshow": {
     "slide_type": "subslide"
    }
   },
   "outputs": [],
   "source": [
    "from revoscalepy import rx_lin_mod"
   ]
  },
  {
   "cell_type": "code",
   "execution_count": 65,
   "metadata": {
    "collapsed": true,
    "slideshow": {
     "slide_type": "fragment"
    }
   },
   "outputs": [],
   "source": [
    "formula = \"ArrDelay ~ DayOfWeek\""
   ]
  },
  {
   "cell_type": "markdown",
   "metadata": {
    "slideshow": {
     "slide_type": "skip"
    }
   },
   "source": [
    "revoscalepy.rx_lin_mod(formula, data, pweights=None, fweights=None, cube: bool = False, \n",
    "                       cube_predictions: bool = False, row_selection: str = None, \n",
    "                       transforms: dict = None, transform_objects: dict = None, \n",
    "                       transform_function: typing.Union[str, <built-in function callable>] = None, \n",
    "                       transform_variables: list = None, transform_packages: list = None, \n",
    "                       transform_environment=None, drop_first: bool = False, \n",
    "                       drop_main: bool = True, cov_coef: bool = False, cov_data: bool = False, \n",
    "                       blocks_per_read: int = 1, report_progress: int = None, verbose: int = 0, \n",
    "                       compute_context=None, **kwargs)\n",
    "Description\n",
    "Fit linear models on small or large data.\n"
   ]
  },
  {
   "cell_type": "code",
   "execution_count": 66,
   "metadata": {
    "collapsed": true,
    "slideshow": {
     "slide_type": "fragment"
    }
   },
   "outputs": [],
   "source": [
    "lin_mod = rx_lin_mod(formula, data = data_source, compute_context = cc,cube=True)"
   ]
  },
  {
   "cell_type": "code",
   "execution_count": 67,
   "metadata": {
    "slideshow": {
     "slide_type": "subslide"
    }
   },
   "outputs": [
    {
     "name": "stdout",
     "output_type": "stream",
     "text": [
      "Call:\n",
      "rx_lin_mod(formula = 'ArrDelay ~ DayOfWeek', data = <revoscalepy.datasource.RxSqlData.RxSqlServerData object at\n",
      "    0x0000026FF0432438>, pweights = None, fweights = None, cube = True, cube_predictions = False, row_selection = None,\n",
      "    transforms = None, transform_objects = None, transform_function = None, transform_variables = None,\n",
      "    transform_packages = None, transform_environment = None, drop_first = False, drop_main = True, cov_coef = False,\n",
      "    cov_data = False, blocks_per_read = 1, report_progress = None, verbose = 0, compute_context = <class\n",
      "    'revoscalepy.computecontext.RxInSqlServer.RxInSqlServer'>)\n",
      "\n",
      "Cube Linear regression Results for: ArrDelay ~ DayOfWeek\n",
      "\n",
      "Dependent variable(s): ['ArrDelay']\n",
      "Total independent variables: 7\n",
      "Number of valid observations: 582628\n",
      "Number of missing observations: 17372\n",
      "                            coefficients   ArrDelay\n",
      "DayOfWeek=Monday        DayOfWeek=Monday  12.025604\n",
      "DayOfWeek=Tuesday      DayOfWeek=Tuesday  11.293808\n",
      "DayOfWeek=Wednesday  DayOfWeek=Wednesday  10.156539\n",
      "DayOfWeek=Thursday    DayOfWeek=Thursday   8.658007\n",
      "DayOfWeek=Friday        DayOfWeek=Friday  14.804335\n",
      "DayOfWeek=Saturday    DayOfWeek=Saturday  11.875326\n",
      "DayOfWeek=Sunday        DayOfWeek=Sunday  10.331806\n"
     ]
    }
   ],
   "source": [
    "print(lin_mod)"
   ]
  },
  {
   "cell_type": "code",
   "execution_count": 68,
   "metadata": {
    "slideshow": {
     "slide_type": "subslide"
    }
   },
   "outputs": [
    {
     "name": "stdout",
     "output_type": "stream",
     "text": [
      "Call:\n",
      "rx_lin_mod(formula = 'ArrDelay ~ DayOfWeek', data = <revoscalepy.datasource.RxSqlData.RxSqlServerData object at\n",
      "    0x0000026FF0432438>, pweights = None, fweights = None, cube = True, cube_predictions = False, row_selection = None,\n",
      "    transforms = None, transform_objects = None, transform_function = None, transform_variables = None,\n",
      "    transform_packages = None, transform_environment = None, drop_first = False, drop_main = True, cov_coef = False,\n",
      "    cov_data = False, blocks_per_read = 1, report_progress = None, verbose = 0, compute_context = <class\n",
      "    'revoscalepy.computecontext.RxInSqlServer.RxInSqlServer'>)\n",
      "\n",
      "Cube Linear regression Results for: ArrDelay ~ DayOfWeek\n",
      "\n",
      "Dependent variable(s): ['ArrDelay']\n",
      "Total independent variables: 7\n",
      "Number of valid observations: 582628\n",
      "Number of missing observations: 17372\n",
      "                            coefficients   ArrDelay\n",
      "DayOfWeek=Monday        DayOfWeek=Monday  12.025604\n",
      "DayOfWeek=Tuesday      DayOfWeek=Tuesday  11.293808\n",
      "DayOfWeek=Wednesday  DayOfWeek=Wednesday  10.156539\n",
      "DayOfWeek=Thursday    DayOfWeek=Thursday   8.658007\n",
      "DayOfWeek=Friday        DayOfWeek=Friday  14.804335\n",
      "DayOfWeek=Saturday    DayOfWeek=Saturday  11.875326\n",
      "DayOfWeek=Sunday        DayOfWeek=Sunday  10.331806\n",
      "Residual standard error: 40.6507 on 582621.0 degrees of freedom\n",
      "Multiple R-squared:0.0019\n",
      "F-statistic:181.7778 on 6.0 and 582621.0 DF\n",
      "Condition number:1.0\n"
     ]
    }
   ],
   "source": [
    "print(lin_mod.summary())"
   ]
  },
  {
   "cell_type": "code",
   "execution_count": null,
   "metadata": {
    "collapsed": true,
    "slideshow": {
     "slide_type": "skip"
    }
   },
   "outputs": [],
   "source": []
  },
  {
   "cell_type": "code",
   "execution_count": null,
   "metadata": {
    "collapsed": true,
    "slideshow": {
     "slide_type": "skip"
    }
   },
   "outputs": [],
   "source": []
  }
 ],
 "metadata": {
  "celltoolbar": "Slideshow",
  "kernelspec": {
   "display_name": "Python 3",
   "language": "python",
   "name": "python3"
  },
  "language_info": {
   "codemirror_mode": {
    "name": "ipython",
    "version": 3
   },
   "file_extension": ".py",
   "mimetype": "text/x-python",
   "name": "python",
   "nbconvert_exporter": "python",
   "pygments_lexer": "ipython3",
   "version": "3.5.2"
  }
 },
 "nbformat": 4,
 "nbformat_minor": 2
}
