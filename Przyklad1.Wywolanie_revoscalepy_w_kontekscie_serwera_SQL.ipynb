{
 "cells": [
  {
   "cell_type": "markdown",
   "metadata": {
    "slideshow": {
     "slide_type": "slide"
    }
   },
   "source": [
    "# Przykład wykonania analizy za pomocą bibliteki revoscalepy w wewnętrznym kontekście serwera SQL "
   ]
  },
  {
   "cell_type": "markdown",
   "metadata": {
    "slideshow": {
     "slide_type": "skip"
    }
   },
   "source": [
    "https://docs.microsoft.com/pl-pl/r-server/python-reference/revoscalepy/rxinsqlserver"
   ]
  },
  {
   "cell_type": "markdown",
   "metadata": {
    "slideshow": {
     "slide_type": "subslide"
    }
   },
   "source": [
    "### Informacje o środowisku wykonawczym"
   ]
  },
  {
   "cell_type": "code",
   "execution_count": 1,
   "metadata": {
    "slideshow": {
     "slide_type": "subslide"
    }
   },
   "outputs": [
    {
     "name": "stdout",
     "output_type": "stream",
     "text": [
      "\n",
      "Express Edition will continue to be enforced.\n"
     ]
    }
   ],
   "source": [
    "import sys\n",
    "import revoscalepy"
   ]
  },
  {
   "cell_type": "code",
   "execution_count": 2,
   "metadata": {
    "slideshow": {
     "slide_type": "slide"
    }
   },
   "outputs": [
    {
     "name": "stdout",
     "output_type": "stream",
     "text": [
      "Wersja modułu revoscalepy:  9.2.0\n",
      "Ścieżka do biblioteki revoscalepy:  ['D:\\\\Microsoft SQL Server\\\\MSSQL14.MSSQLSERVER\\\\PYTHON_SERVICES\\\\lib\\\\site-packages\\\\revoscalepy']\n",
      "Wersja języka Python:  3.5.2 |Continuum Analytics, Inc.| (default, Jul  5 2016, 11:41:13) [MSC v.1900 64 bit (AMD64)]\n",
      "Ścieżka do interpretera:  D:\\Microsoft SQL Server\\MSSQL14.MSSQLSERVER\\PYTHON_SERVICES\\python.exe\n"
     ]
    }
   ],
   "source": [
    "print('Wersja modułu revoscalepy: ', revoscalepy.__version__)\n",
    "print('Ścieżka do biblioteki revoscalepy: ', revoscalepy.__path__)\n",
    "print('Wersja języka Python: ', sys.version)\n",
    "print('Ścieżka do interpretera: ', sys.executable)"
   ]
  },
  {
   "cell_type": "code",
   "execution_count": 3,
   "metadata": {
    "collapsed": true,
    "slideshow": {
     "slide_type": "subslide"
    }
   },
   "outputs": [],
   "source": [
    "del revoscalepy #małe czyszczenie"
   ]
  },
  {
   "cell_type": "markdown",
   "metadata": {
    "slideshow": {
     "slide_type": "fragment"
    }
   },
   "source": [
    "---"
   ]
  },
  {
   "cell_type": "code",
   "execution_count": 4,
   "metadata": {
    "collapsed": true,
    "slideshow": {
     "slide_type": "slide"
    }
   },
   "outputs": [],
   "source": [
    "%matplotlib inline\n",
    "import matplotlib.pyplot as plt\n",
    "import pandas as pd"
   ]
  },
  {
   "cell_type": "markdown",
   "metadata": {},
   "source": [
    "### Utworzenie kontekstu obliczeniowego wewnątrz serwera MS SQL 2017\n",
    "- RxInSqlServer - klasa tworząca kontekst obliczeniowy na serwerze SQL\n",
    "- RxSqlServerData - klasa realizująca dostęp do zestawu danych określonych przez zapytanie i umiejscowionych na serwerze SQL"
   ]
  },
  {
   "cell_type": "code",
   "execution_count": 5,
   "metadata": {
    "collapsed": true
   },
   "outputs": [],
   "source": [
    "from revoscalepy import RxSqlServerData, RxInSqlServer, rx_lin_mod"
   ]
  },
  {
   "cell_type": "code",
   "execution_count": 6,
   "metadata": {
    "collapsed": true
   },
   "outputs": [],
   "source": [
    "connection_string=\"Driver=SQL Server;Server=.;Database=RevoTestDB;Trusted_Connection=True\""
   ]
  },
  {
   "cell_type": "code",
   "execution_count": 7,
   "metadata": {
    "collapsed": true
   },
   "outputs": [],
   "source": [
    "cc = RxInSqlServer(\n",
    "    connection_string = connection_string,\n",
    "    num_tasks = 1,\n",
    "    auto_cleanup = False,\n",
    "    console_output = True,\n",
    "    execution_timeout_seconds = 0,\n",
    "    wait = True\n",
    "    )"
   ]
  },
  {
   "cell_type": "code",
   "execution_count": 8,
   "metadata": {},
   "outputs": [
    {
     "data": {
      "text/plain": [
       "revoscalepy.computecontext.RxInSqlServer.RxInSqlServer"
      ]
     },
     "execution_count": 8,
     "metadata": {},
     "output_type": "execute_result"
    }
   ],
   "source": [
    "type(cc)"
   ]
  },
  {
   "cell_type": "code",
   "execution_count": 9,
   "metadata": {
    "collapsed": true
   },
   "outputs": [],
   "source": [
    "query=\"select top 600000 [ArrDelay],[CRSDepTime],[DayOfWeek] FROM airlinedemosmall\""
   ]
  },
  {
   "cell_type": "code",
   "execution_count": 10,
   "metadata": {
    "collapsed": true
   },
   "outputs": [],
   "source": [
    "data_source = RxSqlServerData(\n",
    "    sql_query = \"select top 600000 * from airlinedemosmall\",\n",
    "    connection_string = connection_string,\n",
    "    column_info = {\n",
    "        \"ArrDelay\" : { \"type\" : \"integer\" },\n",
    "        \"DayOfWeek\" : {\n",
    "            \"type\" : \"factor\",\n",
    "            \"levels\" : [ \"Monday\", \"Tuesday\", \"Wednesday\", \"Thursday\", \"Friday\", \"Saturday\", \"Sunday\" ]\n",
    "        }\n",
    "    })"
   ]
  },
  {
   "cell_type": "code",
   "execution_count": 11,
   "metadata": {},
   "outputs": [
    {
     "data": {
      "text/plain": [
       "revoscalepy.datasource.RxSqlData.RxSqlServerData"
      ]
     },
     "execution_count": 11,
     "metadata": {},
     "output_type": "execute_result"
    }
   ],
   "source": [
    "type(data_source)"
   ]
  },
  {
   "cell_type": "code",
   "execution_count": 12,
   "metadata": {},
   "outputs": [
    {
     "name": "stdout",
     "output_type": "stream",
     "text": [
      "ReadNum=1, StartRowNum=1, CurrentNumRows=6, TotalRowsProcessed=6, ReadTime=0.009, ProcessDataTime = 0.001, LoopTime = 0.01 \n",
      "\n",
      "Overall compute summaries time: 0.010 secs.\n",
      "Total loop time: 0.01\n",
      "Total read time for 1 reads: 0.009\n",
      "Total process data time: Less than .001 seconds\n",
      "Average read time per read: 0.009\n",
      "Average process data time per read: Less than .001 seconds\n",
      "Number of threads used: 2\n"
     ]
    },
    {
     "data": {
      "text/html": [
       "<div>\n",
       "<table border=\"1\" class=\"dataframe\">\n",
       "  <thead>\n",
       "    <tr style=\"text-align: right;\">\n",
       "      <th></th>\n",
       "      <th>ArrDelay</th>\n",
       "      <th>CRSDepTime</th>\n",
       "      <th>DayOfWeek</th>\n",
       "    </tr>\n",
       "  </thead>\n",
       "  <tbody>\n",
       "    <tr>\n",
       "      <th>0</th>\n",
       "      <td>6</td>\n",
       "      <td>9.666666</td>\n",
       "      <td>Monday</td>\n",
       "    </tr>\n",
       "    <tr>\n",
       "      <th>1</th>\n",
       "      <td>-8</td>\n",
       "      <td>19.916666</td>\n",
       "      <td>Monday</td>\n",
       "    </tr>\n",
       "    <tr>\n",
       "      <th>2</th>\n",
       "      <td>-2</td>\n",
       "      <td>13.750000</td>\n",
       "      <td>Monday</td>\n",
       "    </tr>\n",
       "    <tr>\n",
       "      <th>3</th>\n",
       "      <td>1</td>\n",
       "      <td>11.750000</td>\n",
       "      <td>Monday</td>\n",
       "    </tr>\n",
       "    <tr>\n",
       "      <th>4</th>\n",
       "      <td>-2</td>\n",
       "      <td>6.416667</td>\n",
       "      <td>Monday</td>\n",
       "    </tr>\n",
       "    <tr>\n",
       "      <th>5</th>\n",
       "      <td>-14</td>\n",
       "      <td>13.833333</td>\n",
       "      <td>Monday</td>\n",
       "    </tr>\n",
       "  </tbody>\n",
       "</table>\n",
       "</div>"
      ],
      "text/plain": [
       "   ArrDelay  CRSDepTime DayOfWeek\n",
       "0         6    9.666666    Monday\n",
       "1        -8   19.916666    Monday\n",
       "2        -2   13.750000    Monday\n",
       "3         1   11.750000    Monday\n",
       "4        -2    6.416667    Monday\n",
       "5       -14   13.833333    Monday"
      ]
     },
     "execution_count": 12,
     "metadata": {},
     "output_type": "execute_result"
    }
   ],
   "source": [
    "data_source.head(num_rows = 6, report_progress = 3)"
   ]
  },
  {
   "cell_type": "markdown",
   "metadata": {},
   "source": [
    "### Pobranie podstawowych informacji o obiekcie *revoscalepy data source*"
   ]
  },
  {
   "cell_type": "code",
   "execution_count": 13,
   "metadata": {
    "collapsed": true
   },
   "outputs": [],
   "source": [
    "from revoscalepy import rx_get_info, rx_get_var_info, rx_get_var_names, rx_summary"
   ]
  },
  {
   "cell_type": "code",
   "execution_count": 14,
   "metadata": {},
   "outputs": [
    {
     "name": "stdout",
     "output_type": "stream",
     "text": [
      "Connection string:Driver=SQL Server;Server=.;Database=RevoTestDB;Trusted_Connection=True\n",
      "Data Source:SqlServer\n",
      "\n"
     ]
    }
   ],
   "source": [
    "info = rx_get_info(data_source)\n",
    "print(info)"
   ]
  },
  {
   "cell_type": "code",
   "execution_count": 15,
   "metadata": {},
   "outputs": [
    {
     "name": "stdout",
     "output_type": "stream",
     "text": [
      "Var 1: ArrDelay, Type: integer, Storage: int32, Low/High: (-86.0000, 1490.0000)\n",
      "Var 2: CRSDepTime, Type: numeric, Storage: float64, Low/High: (0.0167, 23.9833)\n",
      "Var 3: DayOfWeek\n",
      "\t7 factor levels: ['Monday', 'Tuesday', 'Wednesday', 'Thursday', 'Friday', 'Saturday', 'Sunday']\n",
      "\n"
     ]
    }
   ],
   "source": [
    "var_info = rx_get_var_info(data_source)\n",
    "print(var_info)"
   ]
  },
  {
   "cell_type": "code",
   "execution_count": 16,
   "metadata": {},
   "outputs": [
    {
     "name": "stdout",
     "output_type": "stream",
     "text": [
      "\n",
      "ArrDelay CRSDepTime DayOfWeek\n"
     ]
    }
   ],
   "source": [
    "name_info = rx_get_var_names(data_source)\n",
    "print(name_info)"
   ]
  },
  {
   "cell_type": "code",
   "execution_count": 17,
   "metadata": {},
   "outputs": [
    {
     "name": "stdout",
     "output_type": "stream",
     "text": [
      "Connection string:Driver=SQL Server;Server=.;Database=RevoTestDB;Trusted_Connection=True\n",
      "Data Source:SqlServer\n",
      "Number of variables:3.0\n",
      "Variable information: \n",
      "Var 1: ArrDelay, Type: integer, Storage: int32\n",
      "Var 2: CRSDepTime, Type: numeric, Storage: float64\n",
      "Var 3: DayOfWeek\n",
      "\t7 factor levels: ['Monday', 'Tuesday', 'Wednesday', 'Thursday', 'Friday', 'Saturday', 'Sunday']\n",
      "\n"
     ]
    }
   ],
   "source": [
    "info = rx_get_info(data_source, get_var_info=True)\n",
    "print(info)"
   ]
  },
  {
   "cell_type": "code",
   "execution_count": 18,
   "metadata": {},
   "outputs": [
    {
     "name": "stdout",
     "output_type": "stream",
     "text": [
      "Rows Read: 600000, Total Rows Processed: 600000, Total Chunk Time: 1.252 seconds \n",
      "Computation time: 1.313 seconds.\n",
      "Call:\n",
      "rx_summary(formula = 'ArrDelay+DayOfWeek', data = <revoscalepy.datasource.RxSqlData.RxSqlServerData object at\n",
      "    0x000001E29C3C0C88>, by_group_out_file = None, summary_stats = ['Mean', 'StdDev', 'Min', 'Max', 'ValidObs',\n",
      "    'MissingObs'], by_term = True, pweights = None, fweights = None, row_selection = None, transforms = None,\n",
      "    transform_objects = None, transform_function = None, transform_variables = None, transform_packages = None,\n",
      "    transform_environment = None, overwrite = False, use_sparse_cube = False, remove_zero_counts = False,\n",
      "    blocks_per_read = 1, rows_per_block = 100000, report_progress = None, verbose = 0, compute_context =\n",
      "    <revoscalepy.computecontext.RxLocalSeq.RxLocalSeq object at 0x000001E29A52E908>)\n",
      "\n",
      "Summary Statistics Results for: ArrDelay+DayOfWeek\n",
      "\n",
      "Number of valid observations: 600000.0\n",
      "\n",
      "       Name       Mean     StdDev   Min     Max  ValidObs  MissingObs\n",
      "0  ArrDelay  11.317935  40.688536 -86.0  1490.0  582628.0     17372.0\n",
      "\n",
      "Category Counts for DayOfWeek\n",
      "Number of categories: 7\n",
      "\n",
      "            Counts\n",
      "DayOfWeek         \n",
      "1          97975.0\n",
      "2          77725.0\n",
      "3          78875.0\n",
      "4          81304.0\n",
      "5          82987.0\n",
      "6          86159.0\n",
      "7          94975.0\n"
     ]
    }
   ],
   "source": [
    "summary = rx_summary(\"ArrDelay+DayOfWeek\", data_source)\n",
    "print(summary)"
   ]
  },
  {
   "cell_type": "markdown",
   "metadata": {},
   "source": [
    "### Dane z obiektu *data_source* można zaimportować do obiektu *DataFrame* z biblioteki *Pandas* "
   ]
  },
  {
   "cell_type": "code",
   "execution_count": 19,
   "metadata": {
    "collapsed": true
   },
   "outputs": [],
   "source": [
    "from revoscalepy import rx_import"
   ]
  },
  {
   "cell_type": "code",
   "execution_count": 20,
   "metadata": {},
   "outputs": [
    {
     "name": "stdout",
     "output_type": "stream",
     "text": [
      "Rows Read: 600000, Total Rows Processed: 600000, Total Chunk Time: 1.343 seconds \n"
     ]
    }
   ],
   "source": [
    "df = pd.DataFrame(rx_import(input_data = data_source))"
   ]
  },
  {
   "cell_type": "code",
   "execution_count": 21,
   "metadata": {},
   "outputs": [
    {
     "data": {
      "text/plain": [
       "DayOfWeek\n",
       "Monday       [[Axes(0.125,0.125;0.775x0.755)]]\n",
       "Tuesday      [[Axes(0.125,0.125;0.775x0.755)]]\n",
       "Wednesday    [[Axes(0.125,0.125;0.775x0.755)]]\n",
       "Thursday     [[Axes(0.125,0.125;0.775x0.755)]]\n",
       "Friday       [[Axes(0.125,0.125;0.775x0.755)]]\n",
       "Saturday     [[Axes(0.125,0.125;0.775x0.755)]]\n",
       "Sunday       [[Axes(0.125,0.125;0.775x0.755)]]\n",
       "dtype: object"
      ]
     },
     "execution_count": 21,
     "metadata": {},
     "output_type": "execute_result"
    },
    {
     "data": {
      "image/png": "[encoded data removed]",
      "text/plain": [
       "<matplotlib.figure.Figure at 0x1e29d5c5400>"
      ]
     },
     "metadata": {},
     "output_type": "display_data"
    },
    {
     "data": {
      "image/png": "[encoded data removed]",
      "text/plain": [
       "<matplotlib.figure.Figure at 0x1e2a18a2518>"
      ]
     },
     "metadata": {},
     "output_type": "display_data"
    },
    {
     "data": {
      "image/png": "[encoded data removed]",
      "text/plain": [
       "<matplotlib.figure.Figure at 0x1e2a19235f8>"
      ]
     },
     "metadata": {},
     "output_type": "display_data"
    },
    {
     "data": {
      "image/png": "[encoded data removed]",
      "text/plain": [
       "<matplotlib.figure.Figure at 0x1e2a198d3c8>"
      ]
     },
     "metadata": {},
     "output_type": "display_data"
    },
    {
     "data": {
      "image/png": "[encoded data removed]",
      "text/plain": [
       "<matplotlib.figure.Figure at 0x1e2a19ffeb8>"
      ]
     },
     "metadata": {},
     "output_type": "display_data"
    },
    {
     "data": {
      "image/png": "[encoded data removed]",
      "text/plain": [
       "<matplotlib.figure.Figure at 0x1e2a1a59f98>"
      ]
     },
     "metadata": {},
     "output_type": "display_data"
    },
    {
     "data": {
      "image/png": "[encoded data removed]",
      "text/plain": [
       "<matplotlib.figure.Figure at 0x1e2a1a354e0>"
      ]
     },
     "metadata": {},
     "output_type": "display_data"
    }
   ],
   "source": [
    "df.groupby('DayOfWeek').hist(column='CRSDepTime', figsize=[8,6])"
   ]
  },
  {
   "cell_type": "code",
   "execution_count": 22,
   "metadata": {},
   "outputs": [
    {
     "data": {
      "text/plain": [
       "Monday            Axes(0.1,0.679412;0.235294x0.220588)\n",
       "Tuesday      Axes(0.382353,0.679412;0.235294x0.220588)\n",
       "Wednesday    Axes(0.664706,0.679412;0.235294x0.220588)\n",
       "Thursday          Axes(0.1,0.414706;0.235294x0.220588)\n",
       "Friday       Axes(0.382353,0.414706;0.235294x0.220588)\n",
       "Saturday     Axes(0.664706,0.414706;0.235294x0.220588)\n",
       "Sunday                Axes(0.1,0.15;0.235294x0.220588)\n",
       "dtype: object"
      ]
     },
     "execution_count": 22,
     "metadata": {},
     "output_type": "execute_result"
    },
    {
     "data": {
      "image/png": "[encoded data removed]",
      "text/plain": [
       "<matplotlib.figure.Figure at 0x1e29db577b8>"
      ]
     },
     "metadata": {},
     "output_type": "display_data"
    }
   ],
   "source": [
    "df[df.isnull()== False]\n",
    "df.groupby('DayOfWeek').boxplot(column='ArrDelay', figsize=[14,10])"
   ]
  },
  {
   "cell_type": "code",
   "execution_count": 23,
   "metadata": {},
   "outputs": [
    {
     "data": {
      "text/plain": [
       "600000"
      ]
     },
     "execution_count": 23,
     "metadata": {},
     "output_type": "execute_result"
    }
   ],
   "source": [
    "len(df.isnull()==False)"
   ]
  },
  {
   "cell_type": "code",
   "execution_count": 24,
   "metadata": {
    "collapsed": true
   },
   "outputs": [],
   "source": [
    "from revoscalepy import rx_lin_mod"
   ]
  },
  {
   "cell_type": "code",
   "execution_count": 25,
   "metadata": {
    "collapsed": true
   },
   "outputs": [],
   "source": [
    "formula = \"ArrDelay ~ DayOfWeek\""
   ]
  },
  {
   "cell_type": "code",
   "execution_count": 26,
   "metadata": {
    "collapsed": true
   },
   "outputs": [],
   "source": [
    "lin_mod = rx_lin_mod(formula, data = data_source, compute_context = cc,cube=True)"
   ]
  },
  {
   "cell_type": "code",
   "execution_count": 27,
   "metadata": {},
   "outputs": [
    {
     "name": "stdout",
     "output_type": "stream",
     "text": [
      "Call:\n",
      "rx_lin_mod(formula = 'ArrDelay ~ DayOfWeek', data = <revoscalepy.datasource.RxSqlData.RxSqlServerData object at\n",
      "    0x000001E29C3C0C88>, pweights = None, fweights = None, cube = True, cube_predictions = False, row_selection = None,\n",
      "    transforms = None, transform_objects = None, transform_function = None, transform_variables = None,\n",
      "    transform_packages = None, transform_environment = None, drop_first = False, drop_main = True, cov_coef = False,\n",
      "    cov_data = False, blocks_per_read = 1, report_progress = None, verbose = 0, compute_context = <class\n",
      "    'revoscalepy.computecontext.RxInSqlServer.RxInSqlServer'>)\n",
      "\n",
      "Cube Linear regression Results for: ArrDelay ~ DayOfWeek\n",
      "\n",
      "Dependent variable(s): ['ArrDelay']\n",
      "Total independent variables: 7\n",
      "Number of valid observations: 582628\n",
      "Number of missing observations: 17372\n",
      "                            coefficients   ArrDelay\n",
      "DayOfWeek=Monday        DayOfWeek=Monday  12.025604\n",
      "DayOfWeek=Tuesday      DayOfWeek=Tuesday  11.293808\n",
      "DayOfWeek=Wednesday  DayOfWeek=Wednesday  10.156539\n",
      "DayOfWeek=Thursday    DayOfWeek=Thursday   8.658007\n",
      "DayOfWeek=Friday        DayOfWeek=Friday  14.804335\n",
      "DayOfWeek=Saturday    DayOfWeek=Saturday  11.875326\n",
      "DayOfWeek=Sunday        DayOfWeek=Sunday  10.331806\n"
     ]
    }
   ],
   "source": [
    "print(lin_mod)"
   ]
  },
  {
   "cell_type": "code",
   "execution_count": 28,
   "metadata": {},
   "outputs": [
    {
     "name": "stdout",
     "output_type": "stream",
     "text": [
      "Call:\n",
      "rx_lin_mod(formula = 'ArrDelay ~ DayOfWeek', data = <revoscalepy.datasource.RxSqlData.RxSqlServerData object at\n",
      "    0x000001E29C3C0C88>, pweights = None, fweights = None, cube = True, cube_predictions = False, row_selection = None,\n",
      "    transforms = None, transform_objects = None, transform_function = None, transform_variables = None,\n",
      "    transform_packages = None, transform_environment = None, drop_first = False, drop_main = True, cov_coef = False,\n",
      "    cov_data = False, blocks_per_read = 1, report_progress = None, verbose = 0, compute_context = <class\n",
      "    'revoscalepy.computecontext.RxInSqlServer.RxInSqlServer'>)\n",
      "\n",
      "Cube Linear regression Results for: ArrDelay ~ DayOfWeek\n",
      "\n",
      "Dependent variable(s): ['ArrDelay']\n",
      "Total independent variables: 7\n",
      "Number of valid observations: 582628\n",
      "Number of missing observations: 17372\n",
      "                            coefficients   ArrDelay\n",
      "DayOfWeek=Monday        DayOfWeek=Monday  12.025604\n",
      "DayOfWeek=Tuesday      DayOfWeek=Tuesday  11.293808\n",
      "DayOfWeek=Wednesday  DayOfWeek=Wednesday  10.156539\n",
      "DayOfWeek=Thursday    DayOfWeek=Thursday   8.658007\n",
      "DayOfWeek=Friday        DayOfWeek=Friday  14.804335\n",
      "DayOfWeek=Saturday    DayOfWeek=Saturday  11.875326\n",
      "DayOfWeek=Sunday        DayOfWeek=Sunday  10.331806\n",
      "Residual standard error: 40.6507 on 582621.0 degrees of freedom\n",
      "Multiple R-squared:0.0019\n",
      "F-statistic:181.7778 on 6.0 and 582621.0 DF\n",
      "Condition number:1.0\n"
     ]
    }
   ],
   "source": [
    "print(lin_mod.summary())"
   ]
  },
  {
   "cell_type": "code",
   "execution_count": null,
   "metadata": {
    "collapsed": true
   },
   "outputs": [],
   "source": []
  },
  {
   "cell_type": "code",
   "execution_count": null,
   "metadata": {
    "collapsed": true
   },
   "outputs": [],
   "source": []
  }
 ],
 "metadata": {
  "kernelspec": {
   "display_name": "Python 3",
   "language": "python",
   "name": "python3"
  },
  "language_info": {
   "codemirror_mode": {
    "name": "ipython",
    "version": 3
   },
   "file_extension": ".py",
   "mimetype": "text/x-python",
   "name": "python",
   "nbconvert_exporter": "python",
   "pygments_lexer": "ipython3",
   "version": "3.5.2"
  }
 },
 "nbformat": 4,
 "nbformat_minor": 2
}
