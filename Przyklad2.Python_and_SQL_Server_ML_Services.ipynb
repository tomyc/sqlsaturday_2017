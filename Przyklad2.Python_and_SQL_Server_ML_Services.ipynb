{
 "cells": [
  {
   "cell_type": "markdown",
   "metadata": {
    "slideshow": {
     "slide_type": "slide"
    }
   },
   "source": [
    "# Szacowanie potrzeb wypożyczalni sprzętu narciarskiego"
   ]
  },
  {
   "cell_type": "markdown",
   "metadata": {
    "slideshow": {
     "slide_type": "slide"
    }
   },
   "source": [
    "### Standardowe pakiety wykorzystywane w języky Python i algorytmów uczenia maszynowego"
   ]
  },
  {
   "cell_type": "code",
   "execution_count": 1,
   "metadata": {
    "collapsed": true,
    "slideshow": {
     "slide_type": "fragment"
    }
   },
   "outputs": [],
   "source": [
    "import pandas as pd\n",
    "from sklearn.linear_model import LinearRegression\n",
    "from sklearn.metrics import mean_squared_error"
   ]
  },
  {
   "cell_type": "markdown",
   "metadata": {
    "slideshow": {
     "slide_type": "fragment"
    }
   },
   "source": [
    "### Zastosujemy narzędzia z pakietu *revoscalepy*"
   ]
  },
  {
   "cell_type": "code",
   "execution_count": 2,
   "metadata": {
    "slideshow": {
     "slide_type": "fragment"
    }
   },
   "outputs": [
    {
     "name": "stdout",
     "output_type": "stream",
     "text": [
      "\n",
      "Express Edition will continue to be enforced.\n"
     ]
    }
   ],
   "source": [
    "from revoscalepy import RxComputeContext, RxInSqlServer, RxSqlServerData\n",
    "from revoscalepy import rx_import"
   ]
  },
  {
   "cell_type": "code",
   "execution_count": 3,
   "metadata": {
    "collapsed": true,
    "slideshow": {
     "slide_type": "fragment"
    }
   },
   "outputs": [],
   "source": [
    "conn_str = 'Driver=SQL Server;Server=.;Database=TutorialDB;Trusted_Connection=True;'"
   ]
  },
  {
   "cell_type": "markdown",
   "metadata": {
    "slideshow": {
     "slide_type": "slide"
    }
   },
   "source": [
    "### Opis kolumn, które będą importowane do analiz"
   ]
  },
  {
   "cell_type": "code",
   "execution_count": 4,
   "metadata": {
    "collapsed": true,
    "slideshow": {
     "slide_type": "fragment"
    }
   },
   "outputs": [],
   "source": [
    "column_info = {\n",
    "         \"Year\" : { \"type\" : \"integer\" },\n",
    "         \"Month\" : { \"type\" : \"integer\" },\n",
    "         \"Day\" : { \"type\" : \"integer\" },\n",
    "         \"RentalCount\" : { \"type\" : \"integer\" },\n",
    "         \"WeekDay\" : {\n",
    "             \"type\" : \"factor\",\n",
    "             \"levels\" : [\"1\", \"2\", \"3\", \"4\", \"5\", \"6\", \"7\"]\n",
    "         },\n",
    "         \"Holiday\" : {\n",
    "             \"type\" : \"factor\",\n",
    "             \"levels\" : [\"1\", \"0\"]\n",
    "         },\n",
    "         \"Snow\" : {\n",
    "             \"type\" : \"factor\",\n",
    "             \"levels\" : [\"1\", \"0\"]\n",
    "         }\n",
    "     }"
   ]
  },
  {
   "cell_type": "markdown",
   "metadata": {
    "slideshow": {
     "slide_type": "slide"
    }
   },
   "source": [
    "### Pobierz dane z tabeli serwera SQL"
   ]
  },
  {
   "cell_type": "code",
   "execution_count": 5,
   "metadata": {
    "collapsed": true,
    "slideshow": {
     "slide_type": "fragment"
    }
   },
   "outputs": [],
   "source": [
    "data_source = RxSqlServerData(table=\"dbo.rental_data\",\n",
    "                               connection_string=conn_str, column_info=column_info)"
   ]
  },
  {
   "cell_type": "markdown",
   "metadata": {
    "slideshow": {
     "slide_type": "fragment"
    }
   },
   "source": [
    "#### Określ parametry z jakimi zostanie utworzony kontekst działania analiz"
   ]
  },
  {
   "cell_type": "code",
   "execution_count": 6,
   "metadata": {
    "collapsed": true,
    "slideshow": {
     "slide_type": "fragment"
    }
   },
   "outputs": [],
   "source": [
    "computeContext = RxInSqlServer(\n",
    "     connection_string = conn_str,\n",
    "     num_tasks = 1,\n",
    "     auto_cleanup = False\n",
    ")"
   ]
  },
  {
   "cell_type": "markdown",
   "metadata": {
    "slideshow": {
     "slide_type": "slide"
    }
   },
   "source": [
    "#### Stwórz kontekst wewnątrz serwera SQL"
   ]
  },
  {
   "cell_type": "code",
   "execution_count": 7,
   "metadata": {
    "slideshow": {
     "slide_type": "fragment"
    }
   },
   "outputs": [
    {
     "data": {
      "text/plain": [
       "<revoscalepy.computecontext.RxInSqlServer.RxInSqlServer at 0x1b965fb6b38>"
      ]
     },
     "execution_count": 7,
     "metadata": {},
     "output_type": "execute_result"
    }
   ],
   "source": [
    "RxInSqlServer(connection_string=conn_str, num_tasks=1, auto_cleanup=False)"
   ]
  },
  {
   "cell_type": "markdown",
   "metadata": {
    "slideshow": {
     "slide_type": "slide"
    }
   },
   "source": [
    "#### Zaimportuj dane do obiektu dataframe z pakietu Pandas"
   ]
  },
  {
   "cell_type": "code",
   "execution_count": 13,
   "metadata": {
    "slideshow": {
     "slide_type": "fragment"
    }
   },
   "outputs": [
    {
     "name": "stdout",
     "output_type": "stream",
     "text": [
      "Rows Read: 453, Total Rows Processed: 453, Total Chunk Time: 2.370 seconds \n"
     ]
    }
   ],
   "source": [
    "df = pd.DataFrame(rx_import(input_data = data_source))\n",
    "#print(\"Obiekt Data Frame:\", df.stack())"
   ]
  },
  {
   "cell_type": "code",
   "execution_count": 14,
   "metadata": {
    "slideshow": {
     "slide_type": "fragment"
    }
   },
   "outputs": [
    {
     "data": {
      "text/html": [
       "<div>\n",
       "<table border=\"1\" class=\"dataframe\">\n",
       "  <thead>\n",
       "    <tr style=\"text-align: right;\">\n",
       "      <th></th>\n",
       "      <th>Year</th>\n",
       "      <th>Month</th>\n",
       "      <th>Day</th>\n",
       "      <th>RentalCount</th>\n",
       "      <th>WeekDay</th>\n",
       "      <th>Holiday</th>\n",
       "      <th>Snow</th>\n",
       "      <th>FHoliday</th>\n",
       "      <th>FSnow</th>\n",
       "      <th>FWeekDay</th>\n",
       "    </tr>\n",
       "  </thead>\n",
       "  <tbody>\n",
       "    <tr>\n",
       "      <th>0</th>\n",
       "      <td>2014</td>\n",
       "      <td>1</td>\n",
       "      <td>20</td>\n",
       "      <td>445</td>\n",
       "      <td>2</td>\n",
       "      <td>1</td>\n",
       "      <td>0</td>\n",
       "      <td>1</td>\n",
       "      <td>0</td>\n",
       "      <td>2</td>\n",
       "    </tr>\n",
       "    <tr>\n",
       "      <th>1</th>\n",
       "      <td>2014</td>\n",
       "      <td>2</td>\n",
       "      <td>13</td>\n",
       "      <td>40</td>\n",
       "      <td>5</td>\n",
       "      <td>0</td>\n",
       "      <td>0</td>\n",
       "      <td>0</td>\n",
       "      <td>0</td>\n",
       "      <td>5</td>\n",
       "    </tr>\n",
       "    <tr>\n",
       "      <th>2</th>\n",
       "      <td>2013</td>\n",
       "      <td>3</td>\n",
       "      <td>10</td>\n",
       "      <td>456</td>\n",
       "      <td>1</td>\n",
       "      <td>0</td>\n",
       "      <td>0</td>\n",
       "      <td>0</td>\n",
       "      <td>0</td>\n",
       "      <td>1</td>\n",
       "    </tr>\n",
       "    <tr>\n",
       "      <th>3</th>\n",
       "      <td>2014</td>\n",
       "      <td>3</td>\n",
       "      <td>31</td>\n",
       "      <td>38</td>\n",
       "      <td>2</td>\n",
       "      <td>0</td>\n",
       "      <td>0</td>\n",
       "      <td>0</td>\n",
       "      <td>0</td>\n",
       "      <td>2</td>\n",
       "    </tr>\n",
       "    <tr>\n",
       "      <th>4</th>\n",
       "      <td>2014</td>\n",
       "      <td>4</td>\n",
       "      <td>24</td>\n",
       "      <td>23</td>\n",
       "      <td>5</td>\n",
       "      <td>0</td>\n",
       "      <td>0</td>\n",
       "      <td>0</td>\n",
       "      <td>0</td>\n",
       "      <td>5</td>\n",
       "    </tr>\n",
       "    <tr>\n",
       "      <th>5</th>\n",
       "      <td>2015</td>\n",
       "      <td>2</td>\n",
       "      <td>11</td>\n",
       "      <td>42</td>\n",
       "      <td>4</td>\n",
       "      <td>0</td>\n",
       "      <td>0</td>\n",
       "      <td>0</td>\n",
       "      <td>0</td>\n",
       "      <td>4</td>\n",
       "    </tr>\n",
       "  </tbody>\n",
       "</table>\n",
       "</div>"
      ],
      "text/plain": [
       "   Year  Month  Day  RentalCount WeekDay Holiday Snow FHoliday FSnow FWeekDay\n",
       "0  2014      1   20          445       2       1    0        1     0        2\n",
       "1  2014      2   13           40       5       0    0        0     0        5\n",
       "2  2013      3   10          456       1       0    0        0     0        1\n",
       "3  2014      3   31           38       2       0    0        0     0        2\n",
       "4  2014      4   24           23       5       0    0        0     0        5\n",
       "5  2015      2   11           42       4       0    0        0     0        4"
      ]
     },
     "execution_count": 14,
     "metadata": {},
     "output_type": "execute_result"
    }
   ],
   "source": [
    "df.head(n=6)"
   ]
  },
  {
   "cell_type": "markdown",
   "metadata": {
    "slideshow": {
     "slide_type": "slide"
    }
   },
   "source": [
    "#### Pobierz wszystkie kolumny z obiektu *df*"
   ]
  },
  {
   "cell_type": "code",
   "execution_count": 9,
   "metadata": {
    "collapsed": true,
    "slideshow": {
     "slide_type": "fragment"
    }
   },
   "outputs": [],
   "source": [
    "columns = df.columns.tolist()"
   ]
  },
  {
   "cell_type": "markdown",
   "metadata": {
    "slideshow": {
     "slide_type": "fragment"
    }
   },
   "source": [
    "#### Filtruj kolumny i usuń te, których nie chcesz używać do dalszej analizy"
   ]
  },
  {
   "cell_type": "code",
   "execution_count": 15,
   "metadata": {
    "collapsed": true,
    "slideshow": {
     "slide_type": "fragment"
    }
   },
   "outputs": [],
   "source": [
    "columns = [c for c in columns if c not in [\"Year\"]]"
   ]
  },
  {
   "cell_type": "code",
   "execution_count": 16,
   "metadata": {
    "slideshow": {
     "slide_type": "subslide"
    }
   },
   "outputs": [
    {
     "data": {
      "text/plain": [
       "['Month',\n",
       " 'Day',\n",
       " 'RentalCount',\n",
       " 'WeekDay',\n",
       " 'Holiday',\n",
       " 'Snow',\n",
       " 'FHoliday',\n",
       " 'FSnow',\n",
       " 'FWeekDay']"
      ]
     },
     "execution_count": 16,
     "metadata": {},
     "output_type": "execute_result"
    }
   ],
   "source": [
    "columns"
   ]
  },
  {
   "cell_type": "markdown",
   "metadata": {
    "slideshow": {
     "slide_type": "slide"
    }
   },
   "source": [
    "### Tworzenie modelu"
   ]
  },
  {
   "cell_type": "markdown",
   "metadata": {
    "slideshow": {
     "slide_type": "fragment"
    }
   },
   "source": [
    "#### Jaka zmienna, której predykcja wartości jest celem tworzonego modelu?"
   ]
  },
  {
   "cell_type": "code",
   "execution_count": 17,
   "metadata": {
    "collapsed": true,
    "slideshow": {
     "slide_type": "fragment"
    }
   },
   "outputs": [],
   "source": [
    "target = \"RentalCount\""
   ]
  },
  {
   "cell_type": "markdown",
   "metadata": {
    "slideshow": {
     "slide_type": "fragment"
    }
   },
   "source": [
    "#### Stwórz zbiór uczący - argument *random_state* jest ziarnem dla generatora liczb losowych"
   ]
  },
  {
   "cell_type": "code",
   "execution_count": 18,
   "metadata": {
    "collapsed": true
   },
   "outputs": [],
   "source": [
    "train = df.sample(frac=0.8, random_state=1)"
   ]
  },
  {
   "cell_type": "markdown",
   "metadata": {},
   "source": [
    "#### Zbiór testowy jest rałą reszą nie będącą zbiorem uczącym"
   ]
  },
  {
   "cell_type": "code",
   "execution_count": 19,
   "metadata": {
    "collapsed": true
   },
   "outputs": [],
   "source": [
    "test = df.loc[~df.index.isin(train.index)]"
   ]
  },
  {
   "cell_type": "markdown",
   "metadata": {},
   "source": [
    "#### Pokaż rozmiar obydwu zbiorów"
   ]
  },
  {
   "cell_type": "code",
   "execution_count": 21,
   "metadata": {},
   "outputs": [
    {
     "name": "stdout",
     "output_type": "stream",
     "text": [
      "Rozmiar zbioru uczącego: (362, 10)\n",
      "Rozmiar zbioru testowego: (91, 10)\n"
     ]
    }
   ],
   "source": [
    "print(\"Rozmiar zbioru uczącego:\", train.shape)\n",
    "print(\"Rozmiar zbioru testowego:\", test.shape)"
   ]
  },
  {
   "cell_type": "markdown",
   "metadata": {},
   "source": [
    "#### Stwórz instancję obiektu klasy *LinearRegression* pochodzącej z pakietu *sklearn.linear_model*"
   ]
  },
  {
   "cell_type": "code",
   "execution_count": 22,
   "metadata": {
    "collapsed": true
   },
   "outputs": [],
   "source": [
    "lin_model = LinearRegression()"
   ]
  },
  {
   "cell_type": "markdown",
   "metadata": {},
   "source": [
    "#### Dopasuj model do danych ze zbioru uczącego"
   ]
  },
  {
   "cell_type": "code",
   "execution_count": 23,
   "metadata": {},
   "outputs": [
    {
     "data": {
      "text/plain": [
       "LinearRegression(copy_X=True, fit_intercept=True, n_jobs=1, normalize=False)"
      ]
     },
     "execution_count": 23,
     "metadata": {},
     "output_type": "execute_result"
    }
   ],
   "source": [
    "lin_model.fit(train[columns], train[target])"
   ]
  },
  {
   "cell_type": "markdown",
   "metadata": {},
   "source": [
    "#### Generuj dane prognozowane z wykorzystaniem zbudowanego modelu na danych pochodzących ze zbioru testowego"
   ]
  },
  {
   "cell_type": "code",
   "execution_count": 25,
   "metadata": {},
   "outputs": [
    {
     "name": "stdout",
     "output_type": "stream",
     "text": [
      "Dane prognozowane: [  40.   38.  240.   39.  514.   48.  297.   25.  507.   24.   30.   54.\n",
      "   40.   26.   30.   34.   42.  390.  336.   37.   22.   35.   55.  350.\n",
      "  252.  370.  499.   48.   37.  494.   46.   25.  312.  390.   35.   35.\n",
      "  421.   39.  176.   21.   33.  452.   34.   28.   37.  260.   49.  577.\n",
      "  312.   24.   24.  390.   34.   64.   26.   32.   33.  358.  348.   25.\n",
      "   35.   48.   39.   44.   58.   24.  350.  651.   38.  468.   26.   42.\n",
      "  310.  709.  155.   26.  648.  617.   26.  846.  729.   44.  432.   25.\n",
      "   39.   28.  325.   46.   36.   50.   63.]\n"
     ]
    }
   ],
   "source": [
    "lin_predictions = lin_model.predict(test[columns])\n",
    "print(\"Dane prognozowane:\", lin_predictions)"
   ]
  },
  {
   "cell_type": "markdown",
   "metadata": {},
   "source": [
    "#### Zweryfikuj w jakim stopniu model poprawnie prognozuje dane. Jako parametr określający poprawność działania modelu, użyjemy *średniego błędu kwadratowego*. "
   ]
  },
  {
   "cell_type": "code",
   "execution_count": 28,
   "metadata": {},
   "outputs": [
    {
     "name": "stdout",
     "output_type": "stream",
     "text": [
      "Błąd obliczeń: 4.29528694732e-27\n"
     ]
    }
   ],
   "source": [
    "lin_mse = mean_squared_error(lin_predictions, test[target])\n",
    "print(\"Błąd obliczeń:\", lin_mse)"
   ]
  },
  {
   "cell_type": "markdown",
   "metadata": {
    "slideshow": {
     "slide_type": "slide"
    }
   },
   "source": [
    "### Dalszy ciąg w Microsoft SQL Server Management Studio"
   ]
  },
  {
   "cell_type": "code",
   "execution_count": null,
   "metadata": {
    "collapsed": true,
    "slideshow": {
     "slide_type": "skip"
    }
   },
   "outputs": [],
   "source": []
  }
 ],
 "metadata": {
  "celltoolbar": "Slideshow",
  "kernelspec": {
   "display_name": "Python 3",
   "language": "python",
   "name": "python3"
  },
  "language_info": {
   "codemirror_mode": {
    "name": "ipython",
    "version": 3
   },
   "file_extension": ".py",
   "mimetype": "text/x-python",
   "name": "python",
   "nbconvert_exporter": "python",
   "pygments_lexer": "ipython3",
   "version": "3.5.2"
  }
 },
 "nbformat": 4,
 "nbformat_minor": 2
}
